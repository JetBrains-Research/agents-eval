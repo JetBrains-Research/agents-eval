{
 "cells": [
  {
   "cell_type": "code",
   "execution_count": null,
   "id": "839f7362",
   "metadata": {
    "is_executing": true,
    "jupyter": {
     "is_executing": true
    }
   },
   "outputs": [],
   "source": [
    "from datasets import load_dataset\n",
    "\n",
    "category = 'py'\n",
    "df = load_dataset('JetBrains-Research/template-generation', category, split='dev')"
   ]
  },
  {
   "cell_type": "code",
   "execution_count": null,
   "id": "b791978e",
   "metadata": {
    "is_executing": true
   },
   "outputs": [],
   "source": [
    "import ast\n",
    "\n",
    "df = df.map(lambda example: {'topics': ast.literal_eval(example['topics'])}, batched=False)\n"
   ]
  },
  {
   "cell_type": "code",
   "execution_count": null,
   "id": "7520bfff",
   "metadata": {},
   "outputs": [],
   "source": [
    "topics_to_check = ['fastapi', 'django', 'flask']\n",
    "\n",
    "\n",
    "def classify_by_topic(dp):\n",
    "    class_topic = None\n",
    "    \n",
    "    for topic in dp['topics']:\n",
    "        if topic in topics_to_check:\n",
    "            if class_topic is None:\n",
    "                class_topic = topic\n",
    "            else:\n",
    "                return {'class_topic': None}\n",
    "\n",
    "    return {'class_topic': class_topic}\n",
    "\n",
    "\n",
    "def class_topic_not_none(example):\n",
    "    return example['class_topic'] is not None\n",
    "\n",
    "\n",
    "df = df.map(classify_by_topic)\n",
    "df = df.filter(class_topic_not_none)"
   ]
  },
  {
   "cell_type": "code",
   "execution_count": null,
   "id": "06087d0f",
   "metadata": {},
   "outputs": [],
   "source": [
    "df"
   ]
  },
  {
   "cell_type": "code",
   "execution_count": null,
   "id": "9a5edc3c",
   "metadata": {},
   "outputs": [],
   "source": [
    "from collections import Counter\n",
    "\n",
    "Counter(df['class_topic'])"
   ]
  },
  {
   "cell_type": "code",
   "execution_count": null,
   "id": "bb0ba181",
   "metadata": {},
   "outputs": [],
   "source": [
    "repos_path = '/Users/Maria.Tigina/PycharmProjects/agents-eval-data/repos'"
   ]
  },
  {
   "cell_type": "code",
   "execution_count": null,
   "id": "264e8f45",
   "metadata": {},
   "outputs": [],
   "source": [
    "from git import Repo\n",
    "\n",
    "for dp in df:\n",
    "    Repo.clone_from(f'https://github.com/{dp[\"full_name\"]}.git',\n",
    "                    f'{repos_path}/{\"__\".join(dp[\"full_name\"].split(\"/\"))}')"
   ]
  },
  {
   "cell_type": "code",
   "execution_count": null,
   "id": "1d030ff5",
   "metadata": {},
   "outputs": [],
   "source": [
    "subset = {topic: [] for topic in topics_to_check}\n",
    "\n",
    "for dp in df.shuffle(22):\n",
    "    topic = dp['class_topic']\n",
    "\n",
    "    if len(subset[topic]) < 3:\n",
    "        subset[topic].append(dp)"
   ]
  },
  {
   "cell_type": "code",
   "execution_count": null,
   "id": "7cf584fa",
   "metadata": {},
   "outputs": [],
   "source": [
    "from datasets import Dataset\n",
    "df_s = Dataset.from_list([item for s in subset.values() for item in s]) "
   ]
  },
  {
   "cell_type": "code",
   "execution_count": null,
   "id": "802a1aea",
   "metadata": {},
   "outputs": [],
   "source": [
    "df_s"
   ]
  },
  {
   "cell_type": "code",
   "execution_count": null,
   "id": "a64d35d1",
   "metadata": {},
   "outputs": [],
   "source": [
    "!pip install tree-sitter"
   ]
  },
  {
   "cell_type": "code",
   "execution_count": null,
   "id": "2b321f94",
   "metadata": {},
   "outputs": [],
   "source": [
    "!git clone https://github.com/tree-sitter/tree-sitter-python"
   ]
  },
  {
   "cell_type": "code",
   "execution_count": null,
   "id": "39a6c4f6",
   "metadata": {},
   "outputs": [],
   "source": [
    "# !cd tree-sitter-python & npm install & npx tree-sitter generate"
   ]
  },
  {
   "cell_type": "code",
   "execution_count": null,
   "id": "84e79868",
   "metadata": {},
   "outputs": [],
   "source": [
    "import fnmatch\n",
    "import os\n",
    "from tree_sitter import Language, Parser\n",
    "\n",
    "Language.build_library(\"build/my-languages.so\", [\"tree-sitter-python\"])\n",
    "java_language = Language(\"build/my-languages.so\", \"python\")\n",
    "parser = Parser()\n",
    "parser.set_language(java_language)\n",
    "\n",
    "\n",
    "def get_nodes_by_type(node, t: str):\n",
    "    t_nodes = []\n",
    "    if node.type == t:\n",
    "        t_nodes.append(node)\n",
    "    else:\n",
    "        for child in node.children:\n",
    "            t_nodes.extend(get_nodes_by_type(child, t))\n",
    "    return t_nodes\n",
    "\n",
    "\n",
    "def get_node_content(node, code) -> str:\n",
    "    start_byte = node.start_byte\n",
    "    end_byte = node.end_byte\n",
    "    return code[start_byte:end_byte].decode('utf-8')\n",
    "\n",
    "\n",
    "def extract_methods_from_code(code: str, language: str):\n",
    "    node_t_by_language = {\n",
    "        \"py\": 'function_definition',\n",
    "        \"java\": 'method_declaration'\n",
    "    }\n",
    "\n",
    "    t = node_t_by_language[language]\n",
    "    tree = parser.parse(code)\n",
    "    all_methods = get_nodes_by_type(tree.root_node, t)\n",
    "    method_contents = []\n",
    "    for method in all_methods:\n",
    "        method_content = get_node_content(method, code)\n",
    "        method_contents.append(method_content)\n",
    "\n",
    "    return method_contents\n",
    "\n",
    "\n",
    "def get_repo_files(directory: str, extension: str):\n",
    "    for root, dir, files in os.walk(directory):\n",
    "        for file in files:\n",
    "            if fnmatch.fnmatch(file, f\"*.{extension}\"):\n",
    "                yield os.path.join(root, file)"
   ]
  },
  {
   "cell_type": "code",
   "execution_count": null,
   "id": "4bd85182",
   "metadata": {},
   "outputs": [],
   "source": [
    "from sentence_transformers import SentenceTransformer\n",
    "import numpy as np\n",
    "\n",
    "vect = {}\n",
    "for entity in ['files', 'methods']:\n",
    "    vect[entity] = {\n",
    "        'content': [],\n",
    "        'repo': [],\n",
    "        'path': [],\n",
    "        'vects': np.empty((0, 1024)),\n",
    "        'class_topic': []\n",
    "    }\n",
    "\n",
    "for dp in df_s:\n",
    "    repo = dp['full_name']\n",
    "    print(repo)\n",
    "    for file in get_repo_files(os.path.join(repos_path, \"__\".join(dp[\"full_name\"].split(\"/\"))), category):\n",
    "        with open(file, 'r') as f:\n",
    "            file_content = f.read()\n",
    "            vect['files']['content'].append(file_content)\n",
    "            vect['files']['repo'].append(repo)\n",
    "            vect['files']['path'].append(file)\n",
    "            vect['files']['class_topic'].append(dp['class_topic'])\n",
    "\n",
    "            source_code = bytes(file_content, \"utf8\")\n",
    "            methods = extract_methods_from_code(source_code, category)\n",
    "            for method in methods:\n",
    "                vect['methods']['content'].append(method)\n",
    "                vect['methods']['repo'].append(repo)\n",
    "                vect['methods']['path'].append(file)\n",
    "                vect['methods']['class_topic'].append(dp['class_topic'])\n",
    "\n",
    "model = SentenceTransformer('thenlper/gte-large')\n",
    "\n",
    "for entity in ['files', 'methods']:\n",
    "    vect[entity]['vects'] = model.encode(vect[entity]['content'])\n",
    "    print(vect[entity]['vects'].shape)\n",
    "    print(len(vect[entity]['content']))\n",
    "    print(len(vect[entity]['path']))\n"
   ]
  },
  {
   "cell_type": "code",
   "execution_count": null,
   "id": "d3b7f629",
   "metadata": {},
   "outputs": [],
   "source": [
    "import collections\n",
    "print(collections.Counter(vect['methods']['class_topic']))"
   ]
  },
  {
   "cell_type": "code",
   "execution_count": null,
   "id": "57ec1d9d",
   "metadata": {},
   "outputs": [],
   "source": [
    "import collections\n",
    "print(collections.Counter(vect['files']['class_topic']))"
   ]
  },
  {
   "cell_type": "code",
   "execution_count": null,
   "id": "a1f90f67",
   "metadata": {},
   "outputs": [],
   "source": [
    "import collections\n",
    "import pandas as pd\n",
    "from sklearn.manifold import TSNE\n",
    "import matplotlib.pyplot as plt\n",
    "\n",
    "\n",
    "def classify(classifier, entity: str):\n",
    "    clusters = classifier.fit_predict(vect[entity]['vects'])\n",
    "    cluster_counts = collections.Counter(clusters)\n",
    "\n",
    "    large_clusters = {cluster: count for cluster, count in cluster_counts.items()}\n",
    "    print(large_clusters)\n",
    "\n",
    "    labels_mask = clusters != -1\n",
    "    print(f'Count noise: {np.count_nonzero(labels_mask == False)}')\n",
    "    repo = np.array(vect[entity]['repo'])\n",
    "    path = np.array(vect[entity]['path'])\n",
    "    content = np.array(vect[entity]['content'])\n",
    "    class_topic = np.array(vect[entity]['class_topic'])\n",
    "    \n",
    "    df_labels = pd.DataFrame({\n",
    "        'label': clusters[labels_mask],\n",
    "        'repo': repo[labels_mask],\n",
    "        'path': path[labels_mask], \n",
    "        'content': content[labels_mask], \n",
    "        'class_topic': class_topic[labels_mask]\n",
    "    })\n",
    "        \n",
    "    tsne = TSNE(n_components=2, random_state=0)  # 2D t-SNE\n",
    "    methods_tsne = tsne.fit_transform(vect[entity]['vects'])\n",
    "    \n",
    "    # plot the result\n",
    "    plt.figure(figsize=(8, 8))\n",
    "    plt.scatter(\n",
    "        methods_tsne[:, 0],\n",
    "        methods_tsne[:, 1],\n",
    "        c=clusters,\n",
    "        cmap='viridis'\n",
    "    )\n",
    "    plt.show()\n",
    "    \n",
    "    for c in large_clusters.keys():\n",
    "        if c == -1:\n",
    "            continue\n",
    "        print(f\"Class {c}:\")\n",
    "        # print(*list(df_labels[df_labels['label'] == c]['repo']), sep='\\n')\n",
    "        print(collections.Counter(df_labels[df_labels['label'] == c]['class_topic']))\n",
    "        # for _, dp in df_labels[df_labels['label'] == c].iterrows():\n",
    "        #     print(dp['path'])\n",
    "        #     print(dp['content'])\n",
    "        #     print('------------------------------------\\n\\n')\n",
    "        print(\"====================================\")"
   ]
  },
  {
   "cell_type": "code",
   "execution_count": null,
   "id": "c294c449",
   "metadata": {},
   "outputs": [],
   "source": [
    "from sklearn.cluster import DBSCAN\n",
    "\n",
    "# -1 stands for noise\n",
    "dbscan = DBSCAN(eps=0.4, min_samples=5)\n",
    "classify(dbscan, 'methods')"
   ]
  },
  {
   "cell_type": "code",
   "execution_count": null,
   "id": "524b90ba",
   "metadata": {},
   "outputs": [],
   "source": [
    "from sklearn.cluster import KMeans\n",
    "\n",
    "kmeans = KMeans(n_clusters=3, random_state=42)\n",
    "classify(kmeans, 'methods')"
   ]
  },
  {
   "cell_type": "code",
   "execution_count": null,
   "id": "93f8f4e1",
   "metadata": {},
   "outputs": [],
   "source": []
  }
 ],
 "metadata": {
  "kernelspec": {
   "display_name": "Python 3 (ipykernel)",
   "language": "python",
   "name": "python3"
  },
  "language_info": {
   "codemirror_mode": {
    "name": "ipython",
    "version": 2
   },
   "file_extension": ".py",
   "mimetype": "text/x-python",
   "name": "python",
   "nbconvert_exporter": "python",
   "pygments_lexer": "ipython2",
   "version": "2.7.6"
  }
 },
 "nbformat": 4,
 "nbformat_minor": 5
}
