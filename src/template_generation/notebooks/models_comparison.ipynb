{
 "cells": [
  {
   "cell_type": "code",
   "execution_count": 9,
   "id": "fb209ae3e4fa04bd",
   "metadata": {
    "collapsed": false,
    "jupyter": {
     "outputs_hidden": false
    }
   },
   "source": [
    "golden_templates_path = '/Users/Maria.Tigina/PycharmProjects/agents-eval-data/repos'\n",
    "gen_templates_path = '/Users/Maria.Tigina/PycharmProjects/agents-eval-data/gen_templates'\n",
    "result_path = '/Users/Maria.Tigina/PycharmProjects/agents-eval-data/gen_templates_result'"
   ],
   "outputs": []
  },
  {
   "cell_type": "code",
   "execution_count": 10,
   "id": "fd6b1c91-f0d3-421d-be5d-b9404bef4c96",
   "metadata": {},
   "source": [
    "# vanilla - gpt-4 + simple prompt\n",
    "agents = ['vanilla', 'gpt-4-1106-preview', 'gpt-3.5-turbo-1106']"
   ],
   "outputs": []
  },
  {
   "cell_type": "code",
   "execution_count": 11,
   "id": "13f76169-00ed-48e6-abf7-e23f2186cb84",
   "metadata": {},
   "source": [
    "repo_owner = 'JetBrains'\n",
    "repo_name = 'intellij-platform-plugin-template'"
   ],
   "outputs": []
  },
  {
   "cell_type": "code",
   "execution_count": 12,
   "id": "56a566f3-93d8-4f2c-ac54-1239a9bdbcbd",
   "metadata": {},
   "source": [
    "import pandas as pd\n",
    "import os"
   ],
   "outputs": []
  },
  {
   "cell_type": "code",
   "execution_count": 13,
   "id": "63962e69-0dc3-4049-bc0b-8e4ee3bb5f58",
   "metadata": {},
   "source": [
    "vanilla_df = pd.read_csv(os.path.join(result_path, 'vanilla.csv'))\n",
    "vanilla_df"
   ],
   "outputs": []
  },
  {
   "cell_type": "code",
   "execution_count": 14,
   "id": "60779e6a-e679-4c99-a39f-523124eff0c8",
   "metadata": {},
   "source": [
    "gpt_3_df = pd.read_csv(os.path.join(result_path, 'gpt-3.5-turbo-1106.csv'))\n",
    "gpt_3_df"
   ],
   "outputs": []
  },
  {
   "cell_type": "code",
   "execution_count": 15,
   "id": "54a7ad38-f95b-431b-8553-82c361867436",
   "metadata": {},
   "source": [
    "gpt_4_df = pd.read_csv(os.path.join(result_path, 'gpt-4-1106-preview.csv'))\n",
    "gpt_4_df"
   ],
   "outputs": []
  },
  {
   "cell_type": "markdown",
   "id": "8aae481e-3446-4635-8ca7-7ff31af597d4",
   "metadata": {},
   "source": [
    "# Golden"
   ]
  },
  {
   "cell_type": "code",
   "execution_count": 17,
   "id": "d84dffe6-ea6a-4cdf-a1a0-543b1007546f",
   "metadata": {},
   "source": [
    "from src.utils.project_utils import get_project_file_tree\n",
    "import os\n",
    "\n",
    "golden_template_path = os.path.join(golden_templates_path, f\"{repo_owner}__{repo_name}\")\n",
    "print(get_project_file_tree(golden_template_path))"
   ],
   "outputs": []
  },
  {
   "cell_type": "markdown",
   "id": "ece55bec-c86d-494c-87a1-d81cad16d493",
   "metadata": {},
   "source": [
    "# Vanilla"
   ]
  },
  {
   "cell_type": "code",
   "execution_count": 18,
   "id": "b9ec6d4a-9a63-4b76-9a4f-363bf0dd504f",
   "metadata": {},
   "source": [
    "print(get_project_file_tree(vanilla_df['template_path'][0]))"
   ],
   "outputs": []
  },
  {
   "cell_type": "code",
   "execution_count": 19,
   "id": "8da637b4-3107-4fa5-8dd5-d972812bc2c1",
   "metadata": {},
   "source": [
    "with open(os.path.join(os.path.join(vanilla_df['template_path'][0], \"intellij-platform-plugin-template/src/main/kotlin/com/example/plugin/MyPlugin.kt\")), 'r') as f:\n",
    "    print(f.read())"
   ],
   "outputs": []
  },
  {
   "cell_type": "markdown",
   "id": "1a1f762d-122b-4ea3-b823-ada2336eb394",
   "metadata": {},
   "source": [
    "# gpt-3.5-turbo-1106"
   ]
  },
  {
   "cell_type": "code",
   "execution_count": 20,
   "id": "4ccd9644-803c-405c-ad02-3a64c10a61b5",
   "metadata": {},
   "source": [
    "print(get_project_file_tree(gpt_3_df['template_path'][0]))"
   ],
   "outputs": []
  },
  {
   "cell_type": "code",
   "execution_count": 21,
   "id": "93d1ba19-da08-4b99-9fa7-56097098e516",
   "metadata": {},
   "source": [
    "with open(os.path.join(os.path.join(gpt_3_df['template_path'][0], \"intellij-platform-plugin-template/src/main/kotlin/Main.kt\")), 'r') as f:\n",
    "    print(f.read())"
   ],
   "outputs": []
  },
  {
   "cell_type": "markdown",
   "id": "5da81ad1-702a-41a7-b1d3-c31afaaaf389",
   "metadata": {},
   "source": [
    "# gpt-4-1106-preview"
   ]
  },
  {
   "cell_type": "code",
   "execution_count": 22,
   "id": "1da959eb-0077-43f7-bf05-0c85e1958a6e",
   "metadata": {},
   "source": [
    "print(get_project_file_tree(gpt_4_df['template_path'][0]))"
   ],
   "outputs": []
  },
  {
   "cell_type": "code",
   "execution_count": 23,
   "id": "45e0c204-fd55-462f-a9ed-2fb9cb06c9cd",
   "metadata": {},
   "source": [
    "with open(os.path.join(os.path.join(gpt_4_df['template_path'][0], \"src/main/kotlin/HelloWorldAction.kt\")), 'r') as f:\n",
    "    print(f.read())"
   ],
   "outputs": []
  },
  {
   "cell_type": "markdown",
   "id": "1b781f24-3ff2-45e2-9230-3423e605ce6d",
   "metadata": {},
   "source": [
    "# Diff with Golden\n",
    "For now diff is too large, this is a main problem that outsource templates usually contain more then basic example"
   ]
  },
  {
   "cell_type": "code",
   "execution_count": 33,
   "id": "2416a6e5-46a7-452b-92cc-8f4810be4cfe",
   "metadata": {},
   "source": [
    "# print(vanilla_df['golden_diff'][0])"
   ],
   "outputs": []
  },
  {
   "cell_type": "code",
   "execution_count": 34,
   "id": "7a81a534-04d4-425d-a3f3-c00a9d2554dc",
   "metadata": {},
   "source": [
    "# print(gpt_4_df['golden_diff'][0])"
   ],
   "outputs": []
  },
  {
   "cell_type": "markdown",
   "id": "c6aa69ef-b1c8-4a32-b1eb-424db8d6080a",
   "metadata": {},
   "source": [
    "# Compare \"Smart Agent\" diff with \"Vanilla Agent\" diff"
   ]
  },
  {
   "cell_type": "code",
   "execution_count": 28,
   "id": "bc645b29-0e07-417a-ac92-30cfdd681e54",
   "metadata": {},
   "source": [
    "import nest_asyncio\n",
    "nest_asyncio.apply()"
   ],
   "outputs": []
  },
  {
   "cell_type": "code",
   "execution_count": 32,
   "id": "5ac38b6c-cd08-40d0-8898-f576dd97eb2f",
   "metadata": {},
   "source": [
    "from src.eval.metrics.diff_metrics import gen_vanilla_golden_diff_metric\n",
    "\n",
    "print(await gen_vanilla_golden_diff_metric(vanilla_df['template_path'][0], gpt_4_df['template_path'][0], golden_template_path))"
   ],
   "outputs": []
  },
  {
   "cell_type": "code",
   "execution_count": null,
   "id": "015e46ec-bffc-41f2-a25b-53efcae6bc30",
   "metadata": {},
   "source": [],
   "outputs": []
  }
 ],
 "metadata": {
  "kernelspec": {
   "display_name": "Python 3 (ipykernel)",
   "language": "python",
   "name": "python3"
  },
  "language_info": {
   "codemirror_mode": {
    "name": "ipython",
    "version": 3
   },
   "file_extension": ".py",
   "mimetype": "text/x-python",
   "name": "python",
   "nbconvert_exporter": "python",
   "pygments_lexer": "ipython3",
   "version": "3.11.7"
  }
 },
 "nbformat": 4,
 "nbformat_minor": 5
}
