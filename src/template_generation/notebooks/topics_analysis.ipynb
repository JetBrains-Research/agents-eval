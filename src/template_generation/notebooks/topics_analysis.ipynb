{
 "cells": [
  {
   "cell_type": "code",
   "execution_count": 1,
   "id": "ffd8e7bb",
   "metadata": {
    "ExecuteTime": {
     "end_time": "2024-06-18T16:15:46.387010Z",
     "start_time": "2024-06-18T16:15:44.630377Z"
    },
    "is_executing": true
   },
   "source": [
    "import datasets\n",
    "import pandas as pd\n",
    "import matplotlib.pyplot as plt"
   ],
   "outputs": []
  },
  {
   "cell_type": "code",
   "execution_count": 4,
   "id": "bb3f90d2",
   "metadata": {},
   "source": [
    "import string\n",
    "import nltk\n",
    "from nltk.tokenize import word_tokenize\n",
    "from nltk.corpus import stopwords\n",
    "from collections import Counter\n",
    "\n",
    "nltk.download('punkt')\n",
    "nltk.download('stopwords')"
   ],
   "outputs": []
  },
  {
   "cell_type": "code",
   "execution_count": 21,
   "id": "4a2ceddc-672a-4254-ae48-066f3376d07c",
   "metadata": {},
   "source": [
    "def get_topics(df, field, k):\n",
    "    translator = str.maketrans('', '', string.punctuation)\n",
    "    descriptions = \" \".join(map(lambda d: str(d), df[field]))\n",
    "    descriptions = descriptions.translate(translator)\n",
    "    \n",
    "    tokens = word_tokenize(descriptions)\n",
    "    tokens = [word.lower() for word in tokens]\n",
    "    stop_words = set(stopwords.words('english'))\n",
    "    tokens = [word for word in tokens if not word in stop_words]\n",
    "    word_counts = Counter(tokens)\n",
    "    word_counts_df = pd.DataFrame.from_dict(word_counts, orient='index').sort_values(by=0, ascending=False)\n",
    "    \n",
    "    plt.figure(figsize=(14, 6))\n",
    "    plt.bar(word_counts_df.index[:k], word_counts_df[0][:k])\n",
    "    plt.title(f'Word Distribution in {field} Field')\n",
    "    plt.xlabel('Word')\n",
    "    plt.ylabel('Frequency')\n",
    "    plt.xticks(rotation='vertical')\n",
    "    \n",
    "    plt.show()"
   ],
   "outputs": []
  },
  {
   "cell_type": "markdown",
   "id": "6d940106-5638-4162-bb13-f4726cf7f70a",
   "metadata": {},
   "source": [
    "# Java"
   ]
  },
  {
   "cell_type": "code",
   "execution_count": 18,
   "id": "daa779ba",
   "metadata": {},
   "source": [
    "df = datasets.load_dataset('JetBrains-Research/template-generation', 'java', split='dev', cache_dir=None)"
   ],
   "outputs": []
  },
  {
   "cell_type": "code",
   "execution_count": 22,
   "id": "8859f808",
   "metadata": {},
   "source": [
    "get_topics(df, 'description', 100)"
   ],
   "outputs": []
  },
  {
   "cell_type": "code",
   "execution_count": 23,
   "id": "78a984ab-e448-477d-ac29-e93909741a2d",
   "metadata": {},
   "source": [
    "get_topics(df, 'topics', 100)"
   ],
   "outputs": []
  },
  {
   "cell_type": "markdown",
   "id": "7692cb87-df32-46c2-92ea-0f4d12e6cd43",
   "metadata": {},
   "source": [
    "Libraries: ['springboot', 'selenium', 'junit', 'mockito', 'okhttp', 'javafx']\n",
    "\n",
    "Tech: ['apache', 'azure', 'sql', 'kubernetes', 'redisson', 'kafka', 'aws', 'oauth', 'mqtt', 'java', 'maven', 'gradle']\n",
    "\n",
    "Topics: ['multithreading']"
   ]
  },
  {
   "cell_type": "markdown",
   "id": "e420f65a-dc0f-4679-8f57-ad89554f626e",
   "metadata": {},
   "source": [
    "# Python"
   ]
  },
  {
   "cell_type": "code",
   "execution_count": 26,
   "id": "0e101aa5",
   "metadata": {},
   "source": [
    "df = datasets.load_dataset('JetBrains-Research/template-generation', 'py', split='dev', cache_dir=None)"
   ],
   "outputs": []
  },
  {
   "cell_type": "code",
   "execution_count": 27,
   "id": "a94bf1b3-e1a7-4dd4-abd3-4556e156e37d",
   "metadata": {},
   "source": [
    "get_topics(df, 'description', 100)"
   ],
   "outputs": []
  },
  {
   "cell_type": "code",
   "execution_count": 29,
   "id": "323377c2-0928-4b63-b4b2-ad85c39c8d8f",
   "metadata": {},
   "source": [
    "get_topics(df, 'topics', 75)"
   ],
   "outputs": []
  },
  {
   "cell_type": "markdown",
   "id": "597c1e1a-3665-4b00-9a25-0ad0f4067b9d",
   "metadata": {},
   "source": [
    "Libraries: ['django', 'fastapi', 'streamlit', 'asyncio']\n",
    "\n",
    "Tech: ['docker', 'postgresql', 'dockercompose', 'poetry', 'githubactions', 'mongodb', 'aws', 'kubernetes']\n",
    "\n",
    "Topics: ['deeplearning', 'machinelearning', 'telegrambot', 'computervision', 'datascience', 'telegram', 'ai', 'chatgpt', 'discordbot', 'natualllanguageprocessing', 'llm', 'webapp']"
   ]
  },
  {
   "cell_type": "markdown",
   "id": "6cdbd0ad-6991-42d4-abd9-c119d93b4eb4",
   "metadata": {},
   "source": [
    "# Kotlin"
   ]
  },
  {
   "cell_type": "code",
   "execution_count": 30,
   "id": "df096273-a4b2-46f1-8582-9fd3b6767663",
   "metadata": {},
   "source": [
    "df = datasets.load_dataset('JetBrains-Research/template-generation', 'kt', split='dev', cache_dir=None)"
   ],
   "outputs": []
  },
  {
   "cell_type": "code",
   "execution_count": 31,
   "id": "525a17d9-acb4-418e-8ae8-447f1015ac4d",
   "metadata": {},
   "source": [
    "get_topics(df, 'description', 100)"
   ],
   "outputs": []
  },
  {
   "cell_type": "code",
   "execution_count": 32,
   "id": "23835d9e-ba73-44ae-8759-f9223f40d2eb",
   "metadata": {},
   "source": [
    "get_topics(df, 'topics', 75)"
   ],
   "outputs": []
  },
  {
   "cell_type": "markdown",
   "id": "b3d1e3db-72ab-4465-8c03-1e6043d6f21c",
   "metadata": {},
   "source": [
    "Libraries: ['kotlincoroutines', 'axon', 'ktor', 'vaadin', 'springboot', 'kotlinmultiplatform', 'forge', 'kotlinnative']\n",
    "\n",
    "Tech: ['jwt', 'junit']\n",
    "\n",
    "Topics: ['functionalprogramming', 'auth', 'restapi', 'ast']"
   ]
  },
  {
   "cell_type": "code",
   "execution_count": null,
   "id": "839c74a5-af72-47ca-8663-46183bd737f8",
   "metadata": {},
   "source": [],
   "outputs": []
  }
 ],
 "metadata": {
  "kernelspec": {
   "display_name": "Python 3 (ipykernel)",
   "language": "python",
   "name": "python3"
  },
  "language_info": {
   "codemirror_mode": {
    "name": "ipython",
    "version": 3
   },
   "file_extension": ".py",
   "mimetype": "text/x-python",
   "name": "python",
   "nbconvert_exporter": "python",
   "pygments_lexer": "ipython3",
   "version": "3.10.11"
  }
 },
 "nbformat": 4,
 "nbformat_minor": 5
}
