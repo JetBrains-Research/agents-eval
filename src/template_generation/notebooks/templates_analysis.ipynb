{
 "cells": [
  {
   "cell_type": "code",
   "execution_count": 1,
   "id": "bd0fc4ed",
   "metadata": {
    "ExecuteTime": {
     "end_time": "2024-06-18T16:48:06.623870Z",
     "start_time": "2024-06-18T16:48:06.189545Z"
    }
   },
   "source": [
    "import pandas as pd\n",
    "from omegaconf import OmegaConf\n",
    "import os\n",
    "import matplotlib.pyplot as plt\n",
    "import datasets"
   ],
   "outputs": []
  },
  {
   "cell_type": "code",
   "execution_count": 2,
   "id": "eab385e1-35f4-4a3f-91c0-0646af5d757a",
   "metadata": {},
   "source": [
    "def draw_dist(df, field, p, b=20):\n",
    "    if p == None: \n",
    "        small_df = df[field].astype('int64')\n",
    "        q = 1\n",
    "    else:\n",
    "        q = df[field].astype('int64').quantile(p)\n",
    "        small_df = df[df[field].astype('int64') <= q][field].astype('int64')\n",
    "    print(f\"There is {len(small_df)}/{len(df)} small repos less the {q} in {field}\")\n",
    "    plt.hist(small_df, bins=b, edgecolor='black')\n",
    "    \n",
    "    plt.title(f'{field} distribution')\n",
    "    plt.xlabel(field)\n",
    "    plt.ylabel('frequency')\n",
    "    plt.show()"
   ],
   "outputs": []
  },
  {
   "cell_type": "code",
   "execution_count": 3,
   "id": "5652a31c-62eb-4adb-8fe2-044e32d34e71",
   "metadata": {},
   "source": [
    "metrics = [\n",
    "    'repo_symbols_count',\n",
    "    'repo_tokens_count',\n",
    "    'repo_words_count',\n",
    "    'repo_lines_count',\n",
    "    'repo_files_count',\n",
    "    'repo_code_symbols_count',\n",
    "    'repo_code_tokens_count',\n",
    "    'repo_code_words_count',\n",
    "    'repo_code_lines_count',\n",
    "    'repo_code_files_count',\n",
    "    'description_symbols_count',\n",
    "    'description_tokens_count',\n",
    "    'description_words_count',\n",
    "    'description_lines_count',\n",
    "    'readme',\n",
    "    'readme_symbols_count',\n",
    "    'readme_tokens_count',\n",
    "    'readme_words_count',\n",
    "    'readme_lines_count'\n",
    "]"
   ],
   "outputs": []
  },
  {
   "cell_type": "markdown",
   "id": "cc868253-7ec9-4415-897e-bf8e15fb7707",
   "metadata": {},
   "source": [
    "# Java"
   ]
  },
  {
   "cell_type": "code",
   "execution_count": 4,
   "id": "97e52a15",
   "metadata": {
    "collapsed": false,
    "jupyter": {
     "outputs_hidden": false
    }
   },
   "source": [
    "df = datasets.load_dataset('JetBrains-Research/template-generation', 'java', split='dev', cache_dir=None).to_pandas()"
   ],
   "outputs": []
  },
  {
   "cell_type": "code",
   "execution_count": 5,
   "id": "4e4487d1-0567-4e80-a083-96660430fb07",
   "metadata": {},
   "source": [
    "draw_dist(df, 'size', 0.9)"
   ],
   "outputs": []
  },
  {
   "cell_type": "code",
   "execution_count": 6,
   "id": "43d37a57-459d-4768-b1e1-c8dd4dc088fd",
   "metadata": {},
   "source": [
    "draw_dist(df, 'code_lines', None)"
   ],
   "outputs": []
  },
  {
   "cell_type": "code",
   "execution_count": 7,
   "id": "90de4638-a7bb-46ec-a534-1687909e5182",
   "metadata": {},
   "source": [
    "pd.set_option('display.float_format', '{:.0f}'.format)"
   ],
   "outputs": []
  },
  {
   "cell_type": "code",
   "execution_count": 8,
   "id": "64ed7519-a143-4b08-9974-6e3c07f9abb0",
   "metadata": {},
   "source": [
    "df[metrics].describe()"
   ],
   "outputs": []
  },
  {
   "cell_type": "markdown",
   "id": "9131d8d9-53ad-4259-99a2-96063f8749fe",
   "metadata": {},
   "source": [
    "# Python"
   ]
  },
  {
   "cell_type": "code",
   "execution_count": 9,
   "id": "b68d54f6",
   "metadata": {
    "collapsed": false,
    "jupyter": {
     "outputs_hidden": false
    }
   },
   "source": [
    "df = datasets.load_dataset('JetBrains-Research/template-generation', 'py', split='dev', cache_dir=None).to_pandas()"
   ],
   "outputs": []
  },
  {
   "cell_type": "code",
   "execution_count": 10,
   "id": "bf01c2c0-27f3-409c-837b-46dcb35b0d55",
   "metadata": {},
   "source": [
    "df['description_words_count'] = df.apply(lambda dp: len(dp['description'].split()), axis=1)"
   ],
   "outputs": []
  },
  {
   "cell_type": "code",
   "execution_count": 11,
   "id": "ea4b0f3d-82c3-40f6-8373-4e0f8a862939",
   "metadata": {},
   "source": [
    "draw_dist(df, 'description_words_count', 0.99)"
   ],
   "outputs": []
  },
  {
   "cell_type": "code",
   "execution_count": 12,
   "id": "ee553eb6-28b6-4b00-81ed-14f3804e1e79",
   "metadata": {},
   "source": [
    "draw_dist(df, 'size', 0.9)"
   ],
   "outputs": []
  },
  {
   "cell_type": "code",
   "execution_count": 13,
   "id": "29e0a5f6-5fe4-4963-972d-6109404b7387",
   "metadata": {},
   "source": [
    "draw_dist(df, 'code_lines', None)"
   ],
   "outputs": []
  },
  {
   "cell_type": "code",
   "execution_count": 14,
   "id": "e566307c-c6ed-42b8-a2a0-f5b448ba7971",
   "metadata": {},
   "source": [
    "df[metrics].describe()"
   ],
   "outputs": []
  },
  {
   "cell_type": "markdown",
   "id": "78848e8e-c3e8-4644-b897-ec8b2711d157",
   "metadata": {},
   "source": [
    "# Kotlin"
   ]
  },
  {
   "cell_type": "code",
   "execution_count": 15,
   "id": "3d806c91-464e-41d2-b8f7-6f15bc819a7e",
   "metadata": {},
   "source": [
    "df = datasets.load_dataset('JetBrains-Research/template-generation', 'kt', split='dev', cache_dir=None).to_pandas()"
   ],
   "outputs": []
  },
  {
   "cell_type": "code",
   "execution_count": 16,
   "id": "4dba7b4f-d6ee-4c89-a3a8-30d0e5eafb29",
   "metadata": {},
   "source": [
    "df['description_words_count'] = df.apply(lambda dp: len(dp['description'].split()), axis=1)"
   ],
   "outputs": []
  },
  {
   "cell_type": "code",
   "execution_count": 17,
   "id": "004d62e0-e5f4-4084-beac-0946294d188b",
   "metadata": {},
   "source": [
    "draw_dist(df, 'description_words_count', 0.99)"
   ],
   "outputs": []
  },
  {
   "cell_type": "code",
   "execution_count": 18,
   "id": "9ed2c1c0-d2a8-4796-bcf8-7bf0c09d9fa8",
   "metadata": {},
   "source": [
    "draw_dist(df, 'size', 0.75)"
   ],
   "outputs": []
  },
  {
   "cell_type": "code",
   "execution_count": 19,
   "id": "5c9c0521-451c-4302-ad46-9e87ef46948a",
   "metadata": {},
   "source": [
    "draw_dist(df, 'code_lines', None)"
   ],
   "outputs": []
  },
  {
   "cell_type": "code",
   "execution_count": 20,
   "id": "e77bbccf-b5ea-4c88-8ce4-a07a5e980f83",
   "metadata": {},
   "source": [
    "df[metrics].describe()"
   ],
   "outputs": []
  },
  {
   "cell_type": "code",
   "execution_count": null,
   "id": "804f8223-491a-4cc9-88ac-ea2a7bdcf5ca",
   "metadata": {},
   "source": [],
   "outputs": []
  }
 ],
 "metadata": {
  "kernelspec": {
   "display_name": "Python 3 (ipykernel)",
   "language": "python",
   "name": "python3"
  },
  "language_info": {
   "codemirror_mode": {
    "name": "ipython",
    "version": 3
   },
   "file_extension": ".py",
   "mimetype": "text/x-python",
   "name": "python",
   "nbconvert_exporter": "python",
   "pygments_lexer": "ipython3",
   "version": "3.10.11"
  }
 },
 "nbformat": 4,
 "nbformat_minor": 5
}
