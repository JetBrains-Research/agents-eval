{
 "cells": [
  {
   "cell_type": "code",
   "execution_count": 1,
   "id": "initial_id",
   "metadata": {
    "collapsed": true,
    "ExecuteTime": {
     "end_time": "2024-03-12T23:00:22.451486Z",
     "start_time": "2024-03-12T23:00:20.888721Z"
    }
   },
   "outputs": [],
   "source": [
    "! pip install --upgrade --quiet langchain langchain-openai langchainhub"
   ]
  },
  {
   "cell_type": "code",
   "outputs": [],
   "source": [
    "import getpass\n",
    "import os\n",
    "\n",
    "os.environ[\"OPENAI_API_KEY\"] = getpass.getpass()"
   ],
   "metadata": {
    "collapsed": false,
    "ExecuteTime": {
     "end_time": "2024-03-12T23:00:24.446388Z",
     "start_time": "2024-03-12T23:00:22.453638Z"
    }
   },
   "id": "5d19310e8e63cfd3",
   "execution_count": 2
  },
  {
   "cell_type": "code",
   "outputs": [],
   "source": [
    "from langchain_core.tools import tool\n",
    "\n",
    "\n",
    "def multiply(first_int: int, second_int: int) -> int:\n",
    "    \"\"\"Multiply two integers together.\"\"\"\n",
    "    return first_int * second_int\n",
    "\n",
    "\n",
    "def add(first_int: int, second_int: int) -> int:\n",
    "    \"Add two integers.\"\n",
    "    return first_int + second_int\n",
    "\n",
    "\n",
    "def exponentiate(base: int, exponent: int) -> int:\n",
    "    \"Exponentiate the base to the exponent power.\"\n",
    "    return base ** exponent\n",
    "\n",
    "\n",
    "tools = [multiply, add, exponentiate]"
   ],
   "metadata": {
    "collapsed": false,
    "ExecuteTime": {
     "end_time": "2024-03-12T23:00:24.601972Z",
     "start_time": "2024-03-12T23:00:24.447827Z"
    }
   },
   "id": "85dcbdfbece4e098",
   "execution_count": 3
  },
  {
   "cell_type": "code",
   "outputs": [],
   "source": [
    "from langchain import hub\n",
    "from langchain.agents import AgentExecutor, create_openai_tools_agent\n",
    "from langchain_openai import ChatOpenAI"
   ],
   "metadata": {
    "collapsed": false,
    "ExecuteTime": {
     "end_time": "2024-03-12T23:00:25.485149Z",
     "start_time": "2024-03-12T23:00:24.602733Z"
    }
   },
   "id": "fc8f74c07bad741e",
   "execution_count": 4
  },
  {
   "cell_type": "code",
   "outputs": [
    {
     "name": "stdout",
     "output_type": "stream",
     "text": [
      "================================\u001B[1m System Message \u001B[0m================================\n",
      "\n",
      "You are a helpful assistant\n",
      "\n",
      "=============================\u001B[1m Messages Placeholder \u001B[0m=============================\n",
      "\n",
      "\u001B[33;1m\u001B[1;3m{chat_history}\u001B[0m\n",
      "\n",
      "================================\u001B[1m Human Message \u001B[0m=================================\n",
      "\n",
      "\u001B[33;1m\u001B[1;3m{input}\u001B[0m\n",
      "\n",
      "=============================\u001B[1m Messages Placeholder \u001B[0m=============================\n",
      "\n",
      "\u001B[33;1m\u001B[1;3m{agent_scratchpad}\u001B[0m\n"
     ]
    }
   ],
   "source": [
    "# Get the prompt to use - you can modify this!\n",
    "prompt = hub.pull(\"hwchase17/openai-tools-agent\")\n",
    "prompt.pretty_print()"
   ],
   "metadata": {
    "collapsed": false,
    "ExecuteTime": {
     "end_time": "2024-03-12T23:00:26.875846Z",
     "start_time": "2024-03-12T23:00:25.486680Z"
    }
   },
   "id": "41ab15843938eff0",
   "execution_count": 5
  },
  {
   "cell_type": "code",
   "outputs": [],
   "source": [
    "# Choose the LLM that will drive the agent\n",
    "# Only certain models support this\n",
    "model = ChatOpenAI(model=\"gpt-3.5-turbo-1106\", temperature=0)\n",
    "\n",
    "# Construct the OpenAI Tools agent\n",
    "agent = create_openai_tools_agent(model, tools, prompt)"
   ],
   "metadata": {
    "collapsed": false,
    "ExecuteTime": {
     "end_time": "2024-03-12T23:00:26.891266Z",
     "start_time": "2024-03-12T23:00:26.876825Z"
    }
   },
   "id": "60e6e838450b1971",
   "execution_count": 6
  },
  {
   "cell_type": "code",
   "outputs": [
    {
     "ename": "KeyError",
     "evalue": "'tools'",
     "output_type": "error",
     "traceback": [
      "\u001B[0;31m---------------------------------------------------------------------------\u001B[0m",
      "\u001B[0;31mKeyError\u001B[0m                                  Traceback (most recent call last)",
      "Cell \u001B[0;32mIn[7], line 2\u001B[0m\n\u001B[1;32m      1\u001B[0m \u001B[38;5;66;03m# Create an agent executor by passing in the agent and tools\u001B[39;00m\n\u001B[0;32m----> 2\u001B[0m agent_executor \u001B[38;5;241m=\u001B[39m \u001B[43mAgentExecutor\u001B[49m\u001B[43m(\u001B[49m\u001B[43magent\u001B[49m\u001B[38;5;241;43m=\u001B[39;49m\u001B[43magent\u001B[49m\u001B[43m,\u001B[49m\u001B[43m \u001B[49m\u001B[43mtools\u001B[49m\u001B[38;5;241;43m=\u001B[39;49m\u001B[43mtools\u001B[49m\u001B[43m,\u001B[49m\u001B[43m \u001B[49m\u001B[43mverbose\u001B[49m\u001B[38;5;241;43m=\u001B[39;49m\u001B[38;5;28;43;01mTrue\u001B[39;49;00m\u001B[43m)\u001B[49m\n",
      "File \u001B[0;32m~/PycharmProjects/agents-eval/venv/lib/python3.11/site-packages/langchain_core/load/serializable.py:120\u001B[0m, in \u001B[0;36mSerializable.__init__\u001B[0;34m(self, **kwargs)\u001B[0m\n\u001B[1;32m    119\u001B[0m \u001B[38;5;28;01mdef\u001B[39;00m \u001B[38;5;21m__init__\u001B[39m(\u001B[38;5;28mself\u001B[39m, \u001B[38;5;241m*\u001B[39m\u001B[38;5;241m*\u001B[39mkwargs: Any) \u001B[38;5;241m-\u001B[39m\u001B[38;5;241m>\u001B[39m \u001B[38;5;28;01mNone\u001B[39;00m:\n\u001B[0;32m--> 120\u001B[0m     \u001B[38;5;28;43msuper\u001B[39;49m\u001B[43m(\u001B[49m\u001B[43m)\u001B[49m\u001B[38;5;241;43m.\u001B[39;49m\u001B[38;5;21;43m__init__\u001B[39;49m\u001B[43m(\u001B[49m\u001B[38;5;241;43m*\u001B[39;49m\u001B[38;5;241;43m*\u001B[39;49m\u001B[43mkwargs\u001B[49m\u001B[43m)\u001B[49m\n\u001B[1;32m    121\u001B[0m     \u001B[38;5;28mself\u001B[39m\u001B[38;5;241m.\u001B[39m_lc_kwargs \u001B[38;5;241m=\u001B[39m kwargs\n",
      "File \u001B[0;32m~/PycharmProjects/agents-eval/venv/lib/python3.11/site-packages/pydantic/v1/main.py:339\u001B[0m, in \u001B[0;36mBaseModel.__init__\u001B[0;34m(__pydantic_self__, **data)\u001B[0m\n\u001B[1;32m    333\u001B[0m \u001B[38;5;250m\u001B[39m\u001B[38;5;124;03m\"\"\"\u001B[39;00m\n\u001B[1;32m    334\u001B[0m \u001B[38;5;124;03mCreate a new model by parsing and validating input data from keyword arguments.\u001B[39;00m\n\u001B[1;32m    335\u001B[0m \n\u001B[1;32m    336\u001B[0m \u001B[38;5;124;03mRaises ValidationError if the input data cannot be parsed to form a valid model.\u001B[39;00m\n\u001B[1;32m    337\u001B[0m \u001B[38;5;124;03m\"\"\"\u001B[39;00m\n\u001B[1;32m    338\u001B[0m \u001B[38;5;66;03m# Uses something other than `self` the first arg to allow \"self\" as a settable attribute\u001B[39;00m\n\u001B[0;32m--> 339\u001B[0m values, fields_set, validation_error \u001B[38;5;241m=\u001B[39m \u001B[43mvalidate_model\u001B[49m\u001B[43m(\u001B[49m\u001B[43m__pydantic_self__\u001B[49m\u001B[38;5;241;43m.\u001B[39;49m\u001B[38;5;18;43m__class__\u001B[39;49m\u001B[43m,\u001B[49m\u001B[43m \u001B[49m\u001B[43mdata\u001B[49m\u001B[43m)\u001B[49m\n\u001B[1;32m    340\u001B[0m \u001B[38;5;28;01mif\u001B[39;00m validation_error:\n\u001B[1;32m    341\u001B[0m     \u001B[38;5;28;01mraise\u001B[39;00m validation_error\n",
      "File \u001B[0;32m~/PycharmProjects/agents-eval/venv/lib/python3.11/site-packages/pydantic/v1/main.py:1100\u001B[0m, in \u001B[0;36mvalidate_model\u001B[0;34m(model, input_data, cls)\u001B[0m\n\u001B[1;32m   1098\u001B[0m     \u001B[38;5;28;01mcontinue\u001B[39;00m\n\u001B[1;32m   1099\u001B[0m \u001B[38;5;28;01mtry\u001B[39;00m:\n\u001B[0;32m-> 1100\u001B[0m     values \u001B[38;5;241m=\u001B[39m \u001B[43mvalidator\u001B[49m\u001B[43m(\u001B[49m\u001B[43mcls_\u001B[49m\u001B[43m,\u001B[49m\u001B[43m \u001B[49m\u001B[43mvalues\u001B[49m\u001B[43m)\u001B[49m\n\u001B[1;32m   1101\u001B[0m \u001B[38;5;28;01mexcept\u001B[39;00m (\u001B[38;5;167;01mValueError\u001B[39;00m, \u001B[38;5;167;01mTypeError\u001B[39;00m, \u001B[38;5;167;01mAssertionError\u001B[39;00m) \u001B[38;5;28;01mas\u001B[39;00m exc:\n\u001B[1;32m   1102\u001B[0m     errors\u001B[38;5;241m.\u001B[39mappend(ErrorWrapper(exc, loc\u001B[38;5;241m=\u001B[39mROOT_KEY))\n",
      "File \u001B[0;32m~/PycharmProjects/agents-eval/venv/lib/python3.11/site-packages/langchain/agents/agent.py:944\u001B[0m, in \u001B[0;36mAgentExecutor.validate_tools\u001B[0;34m(cls, values)\u001B[0m\n\u001B[1;32m    942\u001B[0m \u001B[38;5;250m\u001B[39m\u001B[38;5;124;03m\"\"\"Validate that tools are compatible with agent.\"\"\"\u001B[39;00m\n\u001B[1;32m    943\u001B[0m agent \u001B[38;5;241m=\u001B[39m values[\u001B[38;5;124m\"\u001B[39m\u001B[38;5;124magent\u001B[39m\u001B[38;5;124m\"\u001B[39m]\n\u001B[0;32m--> 944\u001B[0m tools \u001B[38;5;241m=\u001B[39m \u001B[43mvalues\u001B[49m\u001B[43m[\u001B[49m\u001B[38;5;124;43m\"\u001B[39;49m\u001B[38;5;124;43mtools\u001B[39;49m\u001B[38;5;124;43m\"\u001B[39;49m\u001B[43m]\u001B[49m\n\u001B[1;32m    945\u001B[0m allowed_tools \u001B[38;5;241m=\u001B[39m agent\u001B[38;5;241m.\u001B[39mget_allowed_tools()\n\u001B[1;32m    946\u001B[0m \u001B[38;5;28;01mif\u001B[39;00m allowed_tools \u001B[38;5;129;01mis\u001B[39;00m \u001B[38;5;129;01mnot\u001B[39;00m \u001B[38;5;28;01mNone\u001B[39;00m:\n",
      "\u001B[0;31mKeyError\u001B[0m: 'tools'"
     ]
    }
   ],
   "source": [
    "# Create an agent executor by passing in the agent and tools\n",
    "agent_executor = AgentExecutor(agent=agent, tools=tools, verbose=True)"
   ],
   "metadata": {
    "collapsed": false,
    "ExecuteTime": {
     "end_time": "2024-03-12T23:00:27.058364Z",
     "start_time": "2024-03-12T23:00:26.891928Z"
    }
   },
   "id": "1d37f9d72740614f",
   "execution_count": 7
  },
  {
   "cell_type": "code",
   "outputs": [],
   "source": [
    "agent_executor.invoke(\n",
    "    {\n",
    "        \"input\": \"Take 3 to the fifth power and multiply that by the sum of twelve and three, then square the whole result\"\n",
    "    }\n",
    ")"
   ],
   "metadata": {
    "collapsed": false
   },
   "id": "63b2ab7a1ee8b48",
   "execution_count": null
  },
  {
   "cell_type": "code",
   "outputs": [],
   "source": [
    "import nest_asyncio\n",
    "\n",
    "nest_asyncio.apply()"
   ],
   "metadata": {
    "collapsed": false,
    "ExecuteTime": {
     "end_time": "2024-03-12T23:00:32.044117Z",
     "start_time": "2024-03-12T23:00:32.040290Z"
    }
   },
   "id": "5d7971994f6d6711",
   "execution_count": 8
  },
  {
   "cell_type": "code",
   "outputs": [],
   "source": [
    "from src.eval.envs.env import Env\n",
    "\n",
    "\n",
    "class MathEnv(Env):\n",
    "    async def init(self, init_params: dict) -> str:\n",
    "        pass\n",
    "\n",
    "    async def run_command(self, command_name: str, command_params: dict) -> int:\n",
    "        if command_name == 'multiply':\n",
    "            first_int = command_params['first_int']\n",
    "            second_int = command_params['second_int']\n",
    "            return multiply(first_int, second_int)\n",
    "        elif command_name == 'add':\n",
    "            first_int = command_params['first_int']\n",
    "            second_int = command_params['second_int']\n",
    "            return add(first_int, second_int)\n",
    "        elif command_name == 'exponentiate':\n",
    "            base = command_params['base']\n",
    "            exponent = command_params['exponent']\n",
    "            return exponentiate(base, exponent)\n",
    "        else:\n",
    "            print(\"Unknown command\")\n",
    "\n",
    "    async def get_tools(self) -> list[dict]:\n",
    "        return [{\n",
    "            \"type\": \"function\",\n",
    "            \"function\": {\n",
    "                \"name\": \"multiply\",\n",
    "                \"description\": \"Multiply two integers together.\",\n",
    "                \"parameters\": {\n",
    "                    \"type\": \"object\",\n",
    "                    \"properties\": {\n",
    "                        \"first_int\": {\n",
    "                            \"type\": \"integer\",\n",
    "                            \"description\": \"First integer\",\n",
    "                        },\n",
    "                        \"second_int\": {\n",
    "                            \"type\": \"integer\",\n",
    "                            \"description\": \"Second integer\",\n",
    "                        },\n",
    "                    },\n",
    "                    \"required\": [\"first_int\", \"second_int\"],\n",
    "                },\n",
    "            }\n",
    "        }, {\n",
    "            \"type\": \"function\",\n",
    "            \"function\": {\n",
    "                \"name\": \"add\",\n",
    "                \"description\": \"Add two integers together.\",\n",
    "                \"parameters\": {\n",
    "                    \"type\": \"object\",\n",
    "                    \"properties\": {\n",
    "                        \"first_int\": {\n",
    "                            \"type\": \"integer\",\n",
    "                            \"description\": \"First integer\",\n",
    "                        },\n",
    "                        \"second_int\": {\n",
    "                            \"type\": \"integer\",\n",
    "                            \"description\": \"Second integer\",\n",
    "                        },\n",
    "                    },\n",
    "                    \"required\": [\"first_int\", \"second_int\"],\n",
    "                },\n",
    "            }\n",
    "        }, {\n",
    "            \"type\": \"function\",\n",
    "            \"function\": {\n",
    "                \"name\": \"exponentiate\",\n",
    "                \"description\": \"Exponentiate the base to the exponent power.\",\n",
    "                \"parameters\": {\n",
    "                    \"type\": \"object\",\n",
    "                    \"properties\": {\n",
    "                        \"base\": {\n",
    "                            \"type\": \"integer\",\n",
    "                            \"description\": \"Base integer\",\n",
    "                        },\n",
    "                        \"exponent\": {\n",
    "                            \"type\": \"integer\",\n",
    "                            \"description\": \"Exponent integer\",\n",
    "                        },\n",
    "                    },\n",
    "                    \"required\": [\"base\", \"exponent\"],\n",
    "                },\n",
    "            }\n",
    "        }]\n",
    "\n",
    "    async def get_state(self) -> str:\n",
    "        pass"
   ],
   "metadata": {
    "collapsed": false,
    "ExecuteTime": {
     "end_time": "2024-03-12T23:00:32.320433Z",
     "start_time": "2024-03-12T23:00:32.312911Z"
    }
   },
   "id": "286b5624bf019f93",
   "execution_count": 9
  },
  {
   "cell_type": "code",
   "outputs": [
    {
     "name": "stdout",
     "output_type": "stream",
     "text": [
      "================================\u001B[1m System Message \u001B[0m================================\n",
      "\n",
      "You are a helpful assistant\n",
      "\n",
      "=============================\u001B[1m Messages Placeholder \u001B[0m=============================\n",
      "\n",
      "\u001B[33;1m\u001B[1;3m{chat_history}\u001B[0m\n",
      "\n",
      "================================\u001B[1m Human Message \u001B[0m=================================\n",
      "\n",
      "\u001B[33;1m\u001B[1;3m{input}\u001B[0m\n",
      "\n",
      "=============================\u001B[1m Messages Placeholder \u001B[0m=============================\n",
      "\n",
      "\u001B[33;1m\u001B[1;3m{agent_scratchpad}\u001B[0m\n"
     ]
    }
   ],
   "source": [
    "from langchain_core.tools import StructuredTool\n",
    "from src.tools.tools import parse_tool\n",
    "\n",
    "math_env = MathEnv()\n",
    "custom_tools = [parse_tool(tool_desc['function'], math_env) for tool_desc in await math_env.get_tools()]\n",
    "\n",
    "# custom_tools = [StructuredTool.from_function(name=\"multiply\", func=multiply, description=\"Multiply two integers\"),\n",
    "#                 StructuredTool.from_function(name=\"add\", func=add, description=\"Add two integers\"),\n",
    "#                 StructuredTool.from_function(name=\"exponentiate\", func=exponentiate,\n",
    "#                                              description=\"Exponentiate the base to the exponent power\")]\n",
    "\n",
    "prompt = hub.pull(\"hwchase17/openai-tools-agent\")\n",
    "prompt.pretty_print()\n",
    "model = ChatOpenAI(model=\"gpt-3.5-turbo-1106\", temperature=0)\n",
    "agent = create_openai_tools_agent(model, custom_tools, prompt)\n",
    "agent_executor = AgentExecutor(agent=agent, tools=custom_tools, verbose=True)"
   ],
   "metadata": {
    "collapsed": false,
    "ExecuteTime": {
     "end_time": "2024-03-12T23:00:33.924964Z",
     "start_time": "2024-03-12T23:00:32.772830Z"
    }
   },
   "id": "7492c3763ebf633d",
   "execution_count": 10
  },
  {
   "cell_type": "code",
   "outputs": [
    {
     "name": "stdout",
     "output_type": "stream",
     "text": [
      "\n",
      "\n",
      "\u001B[1m> Entering new AgentExecutor chain...\u001B[0m\n",
      "\u001B[32;1m\u001B[1;3m\n",
      "Invoking: `exponentiate` with `{'base': 3, 'exponent': 5}`\n",
      "\n",
      "\n",
      "\u001B[0m\u001B[38;5;200m\u001B[1;3m<coroutine object parse_tool.<locals>.tool_impl at 0x127c87440>\u001B[0m\u001B[32;1m\u001B[1;3m\n",
      "Invoking: `add` with `{'first_int': 12, 'second_int': 3}`\n",
      "\n",
      "\n",
      "\u001B[0m\u001B[33;1m\u001B[1;3m<coroutine object parse_tool.<locals>.tool_impl at 0x137588d40>\u001B[0m\u001B[32;1m\u001B[1;3m\n",
      "Invoking: `multiply` with `{'first_int': 243, 'second_int': 15}`\n",
      "responded: I will now calculate 3 to the power of 5 and the sum of 12 and 3 in parallel.\n",
      "\n",
      "\u001B[0m\u001B[36;1m\u001B[1;3m<coroutine object parse_tool.<locals>.tool_impl at 0x1105ec940>\u001B[0m\u001B[32;1m\u001B[1;3m\n",
      "Invoking: `exponentiate` with `{'base': 405, 'exponent': 2}`\n",
      "responded: The result of 3 to the power of 5 is 243, and the sum of 12 and 3 is 15. Now, I will multiply these two results together.\n",
      "\n",
      "\u001B[0m\u001B[38;5;200m\u001B[1;3m<coroutine object parse_tool.<locals>.tool_impl at 0x127c87b40>\u001B[0m\u001B[32;1m\u001B[1;3mThe result of multiplying 243 by 15 is 3645. Now, I will square this result.\n",
      "The final result of squaring 3645 is 13,297,025.\u001B[0m\n",
      "\n",
      "\u001B[1m> Finished chain.\u001B[0m\n"
     ]
    },
    {
     "name": "stderr",
     "output_type": "stream",
     "text": [
      "/Users/Maria.Tigina/PycharmProjects/agents-eval/venv/lib/python3.11/site-packages/langchain/chains/base.py:153: RuntimeWarning: coroutine 'parse_tool.<locals>.tool_impl' was never awaited\n",
      "  self._call(inputs, run_manager=run_manager)\n",
      "RuntimeWarning: Enable tracemalloc to get the object allocation traceback\n"
     ]
    },
    {
     "data": {
      "text/plain": "{'input': 'Take 3 to the fifth power and multiply that by the sum of twelve and three, then square the whole result',\n 'output': 'The result of multiplying 243 by 15 is 3645. Now, I will square this result.\\nThe final result of squaring 3645 is 13,297,025.'}"
     },
     "execution_count": 11,
     "metadata": {},
     "output_type": "execute_result"
    }
   ],
   "source": [
    "agent_executor.invoke(\n",
    "    {\n",
    "        \"input\": \"Take 3 to the fifth power and multiply that by the sum of twelve and three, then square the whole result\"\n",
    "    }\n",
    ")"
   ],
   "metadata": {
    "collapsed": false,
    "ExecuteTime": {
     "end_time": "2024-03-12T23:00:40.012563Z",
     "start_time": "2024-03-12T23:00:35.105329Z"
    }
   },
   "id": "dfce484ee8bcdf13",
   "execution_count": 11
  },
  {
   "cell_type": "code",
   "outputs": [],
   "source": [],
   "metadata": {
    "collapsed": false
   },
   "id": "dc066366a71f03e9"
  }
 ],
 "metadata": {
  "kernelspec": {
   "display_name": "Python 3",
   "language": "python",
   "name": "python3"
  },
  "language_info": {
   "codemirror_mode": {
    "name": "ipython",
    "version": 2
   },
   "file_extension": ".py",
   "mimetype": "text/x-python",
   "name": "python",
   "nbconvert_exporter": "python",
   "pygments_lexer": "ipython2",
   "version": "2.7.6"
  }
 },
 "nbformat": 4,
 "nbformat_minor": 5
}
