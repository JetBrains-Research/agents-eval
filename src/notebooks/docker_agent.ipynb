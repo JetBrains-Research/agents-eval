{
 "cells": [
  {
   "cell_type": "code",
   "execution_count": 1,
   "id": "initial_id",
   "metadata": {
    "collapsed": true,
    "ExecuteTime": {
     "end_time": "2024-03-07T13:28:37.546355Z",
     "start_time": "2024-03-07T13:28:37.501917Z"
    }
   },
   "outputs": [],
   "source": [
    "from src.docker.docker_session_config import DockerSessionConfig\n",
    "from src.docker.docker_session import docker_session"
   ]
  },
  {
   "cell_type": "code",
   "outputs": [],
   "source": [
    "import nest_asyncio\n",
    "nest_asyncio.apply()"
   ],
   "metadata": {
    "collapsed": false,
    "ExecuteTime": {
     "end_time": "2024-03-07T13:28:38.257093Z",
     "start_time": "2024-03-07T13:28:38.254627Z"
    }
   },
   "id": "8d461ab224d4f271",
   "execution_count": 2
  },
  {
   "cell_type": "code",
   "outputs": [],
   "source": [
    "config = DockerSessionConfig(volumes={\n",
    "    '/Users/Maria.Tigina/PycharmProjects/agents-eval-data/docker': {'bind': '/mnt/vol', 'mode': 'rw'},\n",
    "    '/Users/Maria.Tigina/PycharmProjects/agents-eval-data/docker_cp': {'bind': '/mnt/vol1', 'mode': 'cp'}\n",
    "})"
   ],
   "metadata": {
    "collapsed": false,
    "ExecuteTime": {
     "end_time": "2024-03-07T13:28:38.878225Z",
     "start_time": "2024-03-07T13:28:38.876216Z"
    }
   },
   "id": "dbc90096587d9ebe",
   "execution_count": 3
  },
  {
   "cell_type": "code",
   "outputs": [
    {
     "name": "stdout",
     "output_type": "stream",
     "text": [
      "Created file /tmp/test.txt\n",
      "List of files in /tmp:\n",
      "total 8\n",
      "drwxrwxrwt 1 root root 4096 Mar  7 13:28 .\n",
      "drwxr-xr-x 1 root root 4096 Mar  7 13:28 ..\n",
      "drwxr-xr-x 3 root root   96 Mar  6 11:28 _mnt_vol1\n",
      "-rw-r--r-- 1 root root    0 Mar  7 13:28 test.txt\n",
      "Created file /mnt/vol/test_mnt_vol.txt\n",
      "List of files in /mnt/vol:\n",
      "total 4\n",
      "drwxr-xr-x 4 root root  128 Mar  7 10:33 .\n",
      "drwxr-xr-x 1 root root 4096 Mar  7 13:28 ..\n",
      "drwxr-xr-x 2 root root   64 Mar  6 13:28 emptyProject\n",
      "-rw-r--r-- 1 root root    0 Mar  7 13:28 test_mnt_vol.txt\n",
      "Recreated container; list of files in /tmp:\n",
      "total 8\n",
      "drwxrwxrwt 1 root root 4096 Mar  7 13:28 .\n",
      "drwxr-xr-x 1 root root 4096 Mar  7 13:28 ..\n",
      "drwxr-xr-x 3 root root   96 Mar  6 11:28 _mnt_vol1\n"
     ]
    }
   ],
   "source": [
    "with docker_session(config) as session_interface:\n",
    "    out = session_interface.execute_command(\"touch /tmp/test.txt\")\n",
    "    print(f\"Created file /tmp/test.txt\")\n",
    "    \n",
    "    out = session_interface.execute_command('ls -la /tmp')\n",
    "    print(f\"List of files in /tmp:\\n{out}\")\n",
    "    \n",
    "    out = session_interface.execute_command(\"touch /mnt/vol/test_mnt_vol.txt\")\n",
    "    print(f\"Created file /mnt/vol/test_mnt_vol.txt\")\n",
    "    \n",
    "    out = session_interface.execute_command('ls -la /mnt/vol')\n",
    "    print(f\"List of files in /mnt/vol:\\n{out}\")\n",
    "    \n",
    "    session_interface.recreate()\n",
    "    out = session_interface.execute_command('ls -la /tmp')\n",
    "    print(f\"Recreated container; list of files in /tmp:\\n{out}\")"
   ],
   "metadata": {
    "collapsed": false,
    "ExecuteTime": {
     "end_time": "2024-03-07T13:28:46.408452Z",
     "start_time": "2024-03-07T13:28:39.336284Z"
    }
   },
   "id": "1e5f837384d72ce5",
   "execution_count": 4
  },
  {
   "cell_type": "code",
   "outputs": [],
   "source": [
    "from src.eval.envs.http_env import HttpEnv\n",
    "\n",
    "empty_project_path = '/Users/Maria.Tigina/PycharmProjects/agents-eval-data/docker/emptyProject'\n",
    "docker_config = DockerSessionConfig(\n",
    "    image='mariatigina/file-system-service:latest',\n",
    "    command=[],\n",
    "    working_dir='/app',\n",
    "    ports={5050: 5050},\n",
    "    volumes={\n",
    "        empty_project_path: {\"bind\": \"/project\", \"mode\": \"rw\"}\n",
    "    }\n",
    ")\n",
    "async def file_system_agent():\n",
    "    with docker_session(docker_config) as s:\n",
    "        http_env = HttpEnv('localhost', '5050')\n",
    "        print(await http_env.ping())\n",
    "        # print(await http_agent.run_command('create_file', {'path': 'hello.txt'}))\n"
   ],
   "metadata": {
    "collapsed": false,
    "ExecuteTime": {
     "end_time": "2024-03-07T13:29:17.644157Z",
     "start_time": "2024-03-07T13:29:17.636890Z"
    }
   },
   "id": "c1efb93bd1efa53f",
   "execution_count": 7
  },
  {
   "cell_type": "code",
   "outputs": [
    {
     "name": "stdout",
     "output_type": "stream",
     "text": [
      "{\"message\":\"pong\",\"status\":\"success\"}\n"
     ]
    }
   ],
   "source": [
    "await file_system_agent()"
   ],
   "metadata": {
    "collapsed": false,
    "ExecuteTime": {
     "end_time": "2024-03-07T13:30:05.324025Z",
     "start_time": "2024-03-07T13:29:24.706030Z"
    }
   },
   "id": "ae52e6cc9484d719",
   "execution_count": 8
  },
  {
   "cell_type": "code",
   "outputs": [],
   "source": [],
   "metadata": {
    "collapsed": false,
    "ExecuteTime": {
     "start_time": "2024-03-07T10:56:19.965878Z"
    }
   },
   "id": "3fb1ef0dd43f29fb"
  }
 ],
 "metadata": {
  "kernelspec": {
   "display_name": "Python 3",
   "language": "python",
   "name": "python3"
  },
  "language_info": {
   "codemirror_mode": {
    "name": "ipython",
    "version": 2
   },
   "file_extension": ".py",
   "mimetype": "text/x-python",
   "name": "python",
   "nbconvert_exporter": "python",
   "pygments_lexer": "ipython2",
   "version": "2.7.6"
  }
 },
 "nbformat": 4,
 "nbformat_minor": 5
}
