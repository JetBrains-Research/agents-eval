{
 "cells": [
  {
   "cell_type": "code",
   "execution_count": 1,
   "id": "initial_id",
   "metadata": {
    "collapsed": true,
    "ExecuteTime": {
     "end_time": "2024-03-07T10:56:23.866059Z",
     "start_time": "2024-03-07T10:56:23.772219Z"
    }
   },
   "outputs": [],
   "source": [
    "from src.docker.docker_session_config import DockerSessionConfig\n",
    "from src.docker.docker_session import docker_session"
   ]
  },
  {
   "cell_type": "code",
   "outputs": [],
   "source": [
    "import nest_asyncio\n",
    "nest_asyncio.apply()"
   ],
   "metadata": {
    "collapsed": false,
    "ExecuteTime": {
     "end_time": "2024-03-07T10:56:24.043336Z",
     "start_time": "2024-03-07T10:56:24.040622Z"
    }
   },
   "id": "8d461ab224d4f271",
   "execution_count": 2
  },
  {
   "cell_type": "code",
   "outputs": [],
   "source": [
    "config = DockerSessionConfig(volumes={\n",
    "    '/Users/Maria.Tigina/PycharmProjects/agents-eval-data/docker': {'bind': '/mnt/vol', 'mode': 'rw'},\n",
    "    '/Users/Maria.Tigina/PycharmProjects/agents-eval-data/docker_cp': {'bind': '/mnt/vol1', 'mode': 'cp'}\n",
    "})"
   ],
   "metadata": {
    "collapsed": false,
    "ExecuteTime": {
     "end_time": "2024-03-07T10:56:24.273254Z",
     "start_time": "2024-03-07T10:56:24.270646Z"
    }
   },
   "id": "dbc90096587d9ebe",
   "execution_count": 3
  },
  {
   "cell_type": "code",
   "outputs": [
    {
     "name": "stdout",
     "output_type": "stream",
     "text": [
      "Created file /tmp/test.txt\n",
      "List of files in /tmp:\n",
      "total 8\n",
      "drwxrwxrwt 1 root root 4096 Mar  7 10:56 .\n",
      "drwxr-xr-x 1 root root 4096 Mar  7 10:56 ..\n",
      "drwxr-xr-x 3 root root   96 Mar  6 11:28 _mnt_vol1\n",
      "-rw-r--r-- 1 root root    0 Mar  7 10:56 test.txt\n",
      "Created file /mnt/vol/test_mnt_vol.txt\n",
      "List of files in /mnt/vol:\n",
      "total 4\n",
      "drwxr-xr-x 4 root root  128 Mar  7 10:33 .\n",
      "drwxr-xr-x 1 root root 4096 Mar  7 10:56 ..\n",
      "drwxr-xr-x 2 root root   64 Mar  6 13:28 emptyProject\n",
      "-rw-r--r-- 1 root root    0 Mar  7 10:56 test_mnt_vol.txt\n",
      "Recreated container; list of files in /tmp:\n",
      "total 8\n",
      "drwxrwxrwt 1 root root 4096 Mar  7 10:56 .\n",
      "drwxr-xr-x 1 root root 4096 Mar  7 10:56 ..\n",
      "drwxr-xr-x 3 root root   96 Mar  6 11:28 _mnt_vol1\n"
     ]
    }
   ],
   "source": [
    "with docker_session(config) as session_interface:\n",
    "    out = session_interface.execute_command(\"touch /tmp/test.txt\")\n",
    "    print(f\"Created file /tmp/test.txt\")\n",
    "    \n",
    "    out = session_interface.execute_command('ls -la /tmp')\n",
    "    print(f\"List of files in /tmp:\\n{out}\")\n",
    "    \n",
    "    out = session_interface.execute_command(\"touch /mnt/vol/test_mnt_vol.txt\")\n",
    "    print(f\"Created file /mnt/vol/test_mnt_vol.txt\")\n",
    "    \n",
    "    out = session_interface.execute_command('ls -la /mnt/vol')\n",
    "    print(f\"List of files in /mnt/vol:\\n{out}\")\n",
    "    \n",
    "    session_interface.recreate()\n",
    "    out = session_interface.execute_command('ls -la /tmp')\n",
    "    print(f\"Recreated container; list of files in /tmp:\\n{out}\")"
   ],
   "metadata": {
    "collapsed": false,
    "ExecuteTime": {
     "end_time": "2024-03-07T10:56:31.090380Z",
     "start_time": "2024-03-07T10:56:24.497292Z"
    }
   },
   "id": "1e5f837384d72ce5",
   "execution_count": 4
  },
  {
   "cell_type": "code",
   "outputs": [],
   "source": [
    "from src.eval.agents.http_agent import HttpAgent\n",
    "\n",
    "empty_project_path = '/Users/Maria.Tigina/PycharmProjects/agents-eval-data/docker/emptyProject'\n",
    "docker_config = DockerSessionConfig(\n",
    "    image='mariatigina/file-system-service:latest',\n",
    "    command=[],\n",
    "    working_dir='/app',\n",
    "    ports={5050: 5050},\n",
    "    volumes={\n",
    "        empty_project_path: {\"bind\": \"/project\", \"mode\": \"rw\"}\n",
    "    }\n",
    ")\n",
    "async def file_system_agent():\n",
    "    with docker_session(docker_config) as s:\n",
    "        http_agent = HttpAgent('127.0.0.1', '5050')\n",
    "        print(await http_agent.ping())\n",
    "        # print(await http_agent.run_command('create_file', {'path': 'hello.txt'}))\n"
   ],
   "metadata": {
    "collapsed": false,
    "ExecuteTime": {
     "end_time": "2024-03-07T10:56:31.205510Z",
     "start_time": "2024-03-07T10:56:31.090567Z"
    }
   },
   "id": "c1efb93bd1efa53f",
   "execution_count": 5
  },
  {
   "cell_type": "code",
   "outputs": [
    {
     "ename": "ClientConnectorError",
     "evalue": "Cannot connect to host 127.0.0.1:5050 ssl:default [Connect call failed ('127.0.0.1', 5050)]",
     "output_type": "error",
     "traceback": [
      "\u001B[0;31m---------------------------------------------------------------------------\u001B[0m",
      "\u001B[0;31mConnectionRefusedError\u001B[0m                    Traceback (most recent call last)",
      "File \u001B[0;32m~/PycharmProjects/agents-eval/venv/lib/python3.11/site-packages/aiohttp/connector.py:992\u001B[0m, in \u001B[0;36mTCPConnector._wrap_create_connection\u001B[0;34m(self, req, timeout, client_error, *args, **kwargs)\u001B[0m\n\u001B[1;32m    989\u001B[0m     \u001B[38;5;28;01masync\u001B[39;00m \u001B[38;5;28;01mwith\u001B[39;00m ceil_timeout(\n\u001B[1;32m    990\u001B[0m         timeout\u001B[38;5;241m.\u001B[39msock_connect, ceil_threshold\u001B[38;5;241m=\u001B[39mtimeout\u001B[38;5;241m.\u001B[39mceil_threshold\n\u001B[1;32m    991\u001B[0m     ):\n\u001B[0;32m--> 992\u001B[0m         \u001B[38;5;28;01mreturn\u001B[39;00m \u001B[38;5;28;01mawait\u001B[39;00m \u001B[38;5;28mself\u001B[39m\u001B[38;5;241m.\u001B[39m_loop\u001B[38;5;241m.\u001B[39mcreate_connection(\u001B[38;5;241m*\u001B[39margs, \u001B[38;5;241m*\u001B[39m\u001B[38;5;241m*\u001B[39mkwargs)\n\u001B[1;32m    993\u001B[0m \u001B[38;5;28;01mexcept\u001B[39;00m cert_errors \u001B[38;5;28;01mas\u001B[39;00m exc:\n",
      "File \u001B[0;32m~/.pyenv/versions/3.11.7/lib/python3.11/asyncio/base_events.py:1085\u001B[0m, in \u001B[0;36mBaseEventLoop.create_connection\u001B[0;34m(self, protocol_factory, host, port, ssl, family, proto, flags, sock, local_addr, server_hostname, ssl_handshake_timeout, ssl_shutdown_timeout, happy_eyeballs_delay, interleave)\u001B[0m\n\u001B[1;32m   1084\u001B[0m \u001B[38;5;28;01mif\u001B[39;00m \u001B[38;5;28mlen\u001B[39m(exceptions) \u001B[38;5;241m==\u001B[39m \u001B[38;5;241m1\u001B[39m:\n\u001B[0;32m-> 1085\u001B[0m     \u001B[38;5;28;01mraise\u001B[39;00m exceptions[\u001B[38;5;241m0\u001B[39m]\n\u001B[1;32m   1086\u001B[0m \u001B[38;5;28;01melse\u001B[39;00m:\n\u001B[1;32m   1087\u001B[0m     \u001B[38;5;66;03m# If they all have the same str(), raise one.\u001B[39;00m\n",
      "File \u001B[0;32m~/.pyenv/versions/3.11.7/lib/python3.11/asyncio/base_events.py:1069\u001B[0m, in \u001B[0;36mBaseEventLoop.create_connection\u001B[0;34m(self, protocol_factory, host, port, ssl, family, proto, flags, sock, local_addr, server_hostname, ssl_handshake_timeout, ssl_shutdown_timeout, happy_eyeballs_delay, interleave)\u001B[0m\n\u001B[1;32m   1068\u001B[0m \u001B[38;5;28;01mtry\u001B[39;00m:\n\u001B[0;32m-> 1069\u001B[0m     sock \u001B[38;5;241m=\u001B[39m \u001B[38;5;28;01mawait\u001B[39;00m \u001B[38;5;28mself\u001B[39m\u001B[38;5;241m.\u001B[39m_connect_sock(\n\u001B[1;32m   1070\u001B[0m         exceptions, addrinfo, laddr_infos)\n\u001B[1;32m   1071\u001B[0m     \u001B[38;5;28;01mbreak\u001B[39;00m\n",
      "File \u001B[0;32m~/.pyenv/versions/3.11.7/lib/python3.11/asyncio/base_events.py:973\u001B[0m, in \u001B[0;36mBaseEventLoop._connect_sock\u001B[0;34m(self, exceptions, addr_info, local_addr_infos)\u001B[0m\n\u001B[1;32m    972\u001B[0m             \u001B[38;5;28;01mraise\u001B[39;00m \u001B[38;5;167;01mOSError\u001B[39;00m(\u001B[38;5;124mf\u001B[39m\u001B[38;5;124m\"\u001B[39m\u001B[38;5;124mno matching local address with \u001B[39m\u001B[38;5;132;01m{\u001B[39;00mfamily\u001B[38;5;132;01m=}\u001B[39;00m\u001B[38;5;124m found\u001B[39m\u001B[38;5;124m\"\u001B[39m)\n\u001B[0;32m--> 973\u001B[0m \u001B[38;5;28;01mawait\u001B[39;00m \u001B[38;5;28mself\u001B[39m\u001B[38;5;241m.\u001B[39msock_connect(sock, address)\n\u001B[1;32m    974\u001B[0m \u001B[38;5;28;01mreturn\u001B[39;00m sock\n",
      "File \u001B[0;32m~/.pyenv/versions/3.11.7/lib/python3.11/asyncio/selector_events.py:634\u001B[0m, in \u001B[0;36mBaseSelectorEventLoop.sock_connect\u001B[0;34m(self, sock, address)\u001B[0m\n\u001B[1;32m    633\u001B[0m \u001B[38;5;28;01mtry\u001B[39;00m:\n\u001B[0;32m--> 634\u001B[0m     \u001B[38;5;28;01mreturn\u001B[39;00m \u001B[38;5;28;01mawait\u001B[39;00m fut\n\u001B[1;32m    635\u001B[0m \u001B[38;5;28;01mfinally\u001B[39;00m:\n\u001B[1;32m    636\u001B[0m     \u001B[38;5;66;03m# Needed to break cycles when an exception occurs.\u001B[39;00m\n",
      "File \u001B[0;32m~/.pyenv/versions/3.11.7/lib/python3.11/asyncio/futures.py:287\u001B[0m, in \u001B[0;36mFuture.__await__\u001B[0;34m(self)\u001B[0m\n\u001B[1;32m    286\u001B[0m     \u001B[38;5;28mself\u001B[39m\u001B[38;5;241m.\u001B[39m_asyncio_future_blocking \u001B[38;5;241m=\u001B[39m \u001B[38;5;28;01mTrue\u001B[39;00m\n\u001B[0;32m--> 287\u001B[0m     \u001B[38;5;28;01myield\u001B[39;00m \u001B[38;5;28mself\u001B[39m  \u001B[38;5;66;03m# This tells Task to wait for completion.\u001B[39;00m\n\u001B[1;32m    288\u001B[0m \u001B[38;5;28;01mif\u001B[39;00m \u001B[38;5;129;01mnot\u001B[39;00m \u001B[38;5;28mself\u001B[39m\u001B[38;5;241m.\u001B[39mdone():\n",
      "File \u001B[0;32m~/.pyenv/versions/3.11.7/lib/python3.11/asyncio/tasks.py:349\u001B[0m, in \u001B[0;36mTask.__wakeup\u001B[0;34m(self, future)\u001B[0m\n\u001B[1;32m    348\u001B[0m \u001B[38;5;28;01mtry\u001B[39;00m:\n\u001B[0;32m--> 349\u001B[0m     \u001B[43mfuture\u001B[49m\u001B[38;5;241;43m.\u001B[39;49m\u001B[43mresult\u001B[49m\u001B[43m(\u001B[49m\u001B[43m)\u001B[49m\n\u001B[1;32m    350\u001B[0m \u001B[38;5;28;01mexcept\u001B[39;00m \u001B[38;5;167;01mBaseException\u001B[39;00m \u001B[38;5;28;01mas\u001B[39;00m exc:\n\u001B[1;32m    351\u001B[0m     \u001B[38;5;66;03m# This may also be a cancellation.\u001B[39;00m\n",
      "File \u001B[0;32m~/.pyenv/versions/3.11.7/lib/python3.11/asyncio/futures.py:203\u001B[0m, in \u001B[0;36mFuture.result\u001B[0;34m(self)\u001B[0m\n\u001B[1;32m    202\u001B[0m \u001B[38;5;28;01mif\u001B[39;00m \u001B[38;5;28mself\u001B[39m\u001B[38;5;241m.\u001B[39m_exception \u001B[38;5;129;01mis\u001B[39;00m \u001B[38;5;129;01mnot\u001B[39;00m \u001B[38;5;28;01mNone\u001B[39;00m:\n\u001B[0;32m--> 203\u001B[0m     \u001B[38;5;28;01mraise\u001B[39;00m \u001B[38;5;28mself\u001B[39m\u001B[38;5;241m.\u001B[39m_exception\u001B[38;5;241m.\u001B[39mwith_traceback(\u001B[38;5;28mself\u001B[39m\u001B[38;5;241m.\u001B[39m_exception_tb)\n\u001B[1;32m    204\u001B[0m \u001B[38;5;28;01mreturn\u001B[39;00m \u001B[38;5;28mself\u001B[39m\u001B[38;5;241m.\u001B[39m_result\n",
      "File \u001B[0;32m~/.pyenv/versions/3.11.7/lib/python3.11/asyncio/selector_events.py:674\u001B[0m, in \u001B[0;36mBaseSelectorEventLoop._sock_connect_cb\u001B[0;34m(self, fut, sock, address)\u001B[0m\n\u001B[1;32m    672\u001B[0m     \u001B[38;5;28;01mif\u001B[39;00m err \u001B[38;5;241m!=\u001B[39m \u001B[38;5;241m0\u001B[39m:\n\u001B[1;32m    673\u001B[0m         \u001B[38;5;66;03m# Jump to any except clause below.\u001B[39;00m\n\u001B[0;32m--> 674\u001B[0m         \u001B[38;5;28;01mraise\u001B[39;00m \u001B[38;5;167;01mOSError\u001B[39;00m(err, \u001B[38;5;124mf\u001B[39m\u001B[38;5;124m'\u001B[39m\u001B[38;5;124mConnect call failed \u001B[39m\u001B[38;5;132;01m{\u001B[39;00maddress\u001B[38;5;132;01m}\u001B[39;00m\u001B[38;5;124m'\u001B[39m)\n\u001B[1;32m    675\u001B[0m \u001B[38;5;28;01mexcept\u001B[39;00m (\u001B[38;5;167;01mBlockingIOError\u001B[39;00m, \u001B[38;5;167;01mInterruptedError\u001B[39;00m):\n\u001B[1;32m    676\u001B[0m     \u001B[38;5;66;03m# socket is still registered, the callback will be retried later\u001B[39;00m\n",
      "\u001B[0;31mConnectionRefusedError\u001B[0m: [Errno 61] Connect call failed ('127.0.0.1', 5050)",
      "\nThe above exception was the direct cause of the following exception:\n",
      "\u001B[0;31mClientConnectorError\u001B[0m                      Traceback (most recent call last)",
      "Cell \u001B[0;32mIn[6], line 1\u001B[0m\n\u001B[0;32m----> 1\u001B[0m \u001B[38;5;28;01mawait\u001B[39;00m file_system_agent()\n",
      "Cell \u001B[0;32mIn[5], line 16\u001B[0m, in \u001B[0;36mfile_system_agent\u001B[0;34m()\u001B[0m\n\u001B[1;32m     14\u001B[0m \u001B[38;5;28;01mwith\u001B[39;00m docker_session(docker_config) \u001B[38;5;28;01mas\u001B[39;00m s:\n\u001B[1;32m     15\u001B[0m     http_agent \u001B[38;5;241m=\u001B[39m HttpAgent(\u001B[38;5;124m'\u001B[39m\u001B[38;5;124m127.0.0.1\u001B[39m\u001B[38;5;124m'\u001B[39m, \u001B[38;5;124m'\u001B[39m\u001B[38;5;124m5050\u001B[39m\u001B[38;5;124m'\u001B[39m)\n\u001B[0;32m---> 16\u001B[0m     \u001B[38;5;28mprint\u001B[39m(\u001B[38;5;28;01mawait\u001B[39;00m http_agent\u001B[38;5;241m.\u001B[39mping())\n",
      "File \u001B[0;32m~/PycharmProjects/agents-eval/src/eval/agents/http_agent.py:52\u001B[0m, in \u001B[0;36mHttpAgent.ping\u001B[0;34m(self)\u001B[0m\n\u001B[1;32m     49\u001B[0m url \u001B[38;5;241m=\u001B[39m \u001B[38;5;124mf\u001B[39m\u001B[38;5;124m'\u001B[39m\u001B[38;5;132;01m{\u001B[39;00m\u001B[38;5;28mself\u001B[39m\u001B[38;5;241m.\u001B[39mbase_url\u001B[38;5;132;01m}\u001B[39;00m\u001B[38;5;124m/ping\u001B[39m\u001B[38;5;124m'\u001B[39m\n\u001B[1;32m     51\u001B[0m \u001B[38;5;28;01masync\u001B[39;00m \u001B[38;5;28;01mwith\u001B[39;00m aiohttp\u001B[38;5;241m.\u001B[39mClientSession() \u001B[38;5;28;01mas\u001B[39;00m session:\n\u001B[0;32m---> 52\u001B[0m     \u001B[38;5;28;01masync\u001B[39;00m \u001B[38;5;28;01mwith\u001B[39;00m session\u001B[38;5;241m.\u001B[39mget(url) \u001B[38;5;28;01mas\u001B[39;00m response:\n\u001B[1;32m     53\u001B[0m         \u001B[38;5;28;01mreturn\u001B[39;00m \u001B[38;5;28;01mawait\u001B[39;00m response\u001B[38;5;241m.\u001B[39mtext()\n",
      "File \u001B[0;32m~/PycharmProjects/agents-eval/venv/lib/python3.11/site-packages/aiohttp/client.py:1194\u001B[0m, in \u001B[0;36m_BaseRequestContextManager.__aenter__\u001B[0;34m(self)\u001B[0m\n\u001B[1;32m   1193\u001B[0m \u001B[38;5;28;01masync\u001B[39;00m \u001B[38;5;28;01mdef\u001B[39;00m \u001B[38;5;21m__aenter__\u001B[39m(\u001B[38;5;28mself\u001B[39m) \u001B[38;5;241m-\u001B[39m\u001B[38;5;241m>\u001B[39m _RetType:\n\u001B[0;32m-> 1194\u001B[0m     \u001B[38;5;28mself\u001B[39m\u001B[38;5;241m.\u001B[39m_resp \u001B[38;5;241m=\u001B[39m \u001B[38;5;28;01mawait\u001B[39;00m \u001B[38;5;28mself\u001B[39m\u001B[38;5;241m.\u001B[39m_coro\n\u001B[1;32m   1195\u001B[0m     \u001B[38;5;28;01mreturn\u001B[39;00m \u001B[38;5;28mself\u001B[39m\u001B[38;5;241m.\u001B[39m_resp\n",
      "File \u001B[0;32m~/PycharmProjects/agents-eval/venv/lib/python3.11/site-packages/aiohttp/client.py:578\u001B[0m, in \u001B[0;36mClientSession._request\u001B[0;34m(self, method, str_or_url, params, data, json, cookies, headers, skip_auto_headers, auth, allow_redirects, max_redirects, compress, chunked, expect100, raise_for_status, read_until_eof, proxy, proxy_auth, timeout, verify_ssl, fingerprint, ssl_context, ssl, server_hostname, proxy_headers, trace_request_ctx, read_bufsize, auto_decompress, max_line_size, max_field_size)\u001B[0m\n\u001B[1;32m    573\u001B[0m     \u001B[38;5;28;01masync\u001B[39;00m \u001B[38;5;28;01mwith\u001B[39;00m ceil_timeout(\n\u001B[1;32m    574\u001B[0m         real_timeout\u001B[38;5;241m.\u001B[39mconnect,\n\u001B[1;32m    575\u001B[0m         ceil_threshold\u001B[38;5;241m=\u001B[39mreal_timeout\u001B[38;5;241m.\u001B[39mceil_threshold,\n\u001B[1;32m    576\u001B[0m     ):\n\u001B[1;32m    577\u001B[0m         \u001B[38;5;28;01massert\u001B[39;00m \u001B[38;5;28mself\u001B[39m\u001B[38;5;241m.\u001B[39m_connector \u001B[38;5;129;01mis\u001B[39;00m \u001B[38;5;129;01mnot\u001B[39;00m \u001B[38;5;28;01mNone\u001B[39;00m\n\u001B[0;32m--> 578\u001B[0m         conn \u001B[38;5;241m=\u001B[39m \u001B[38;5;28;01mawait\u001B[39;00m \u001B[38;5;28mself\u001B[39m\u001B[38;5;241m.\u001B[39m_connector\u001B[38;5;241m.\u001B[39mconnect(\n\u001B[1;32m    579\u001B[0m             req, traces\u001B[38;5;241m=\u001B[39mtraces, timeout\u001B[38;5;241m=\u001B[39mreal_timeout\n\u001B[1;32m    580\u001B[0m         )\n\u001B[1;32m    581\u001B[0m \u001B[38;5;28;01mexcept\u001B[39;00m asyncio\u001B[38;5;241m.\u001B[39mTimeoutError \u001B[38;5;28;01mas\u001B[39;00m exc:\n\u001B[1;32m    582\u001B[0m     \u001B[38;5;28;01mraise\u001B[39;00m ServerTimeoutError(\n\u001B[1;32m    583\u001B[0m         \u001B[38;5;124m\"\u001B[39m\u001B[38;5;124mConnection timeout \u001B[39m\u001B[38;5;124m\"\u001B[39m \u001B[38;5;124m\"\u001B[39m\u001B[38;5;124mto host \u001B[39m\u001B[38;5;132;01m{}\u001B[39;00m\u001B[38;5;124m\"\u001B[39m\u001B[38;5;241m.\u001B[39mformat(url)\n\u001B[1;32m    584\u001B[0m     ) \u001B[38;5;28;01mfrom\u001B[39;00m \u001B[38;5;21;01mexc\u001B[39;00m\n",
      "File \u001B[0;32m~/PycharmProjects/agents-eval/venv/lib/python3.11/site-packages/aiohttp/connector.py:544\u001B[0m, in \u001B[0;36mBaseConnector.connect\u001B[0;34m(self, req, traces, timeout)\u001B[0m\n\u001B[1;32m    541\u001B[0m         \u001B[38;5;28;01mawait\u001B[39;00m trace\u001B[38;5;241m.\u001B[39msend_connection_create_start()\n\u001B[1;32m    543\u001B[0m \u001B[38;5;28;01mtry\u001B[39;00m:\n\u001B[0;32m--> 544\u001B[0m     proto \u001B[38;5;241m=\u001B[39m \u001B[38;5;28;01mawait\u001B[39;00m \u001B[38;5;28mself\u001B[39m\u001B[38;5;241m.\u001B[39m_create_connection(req, traces, timeout)\n\u001B[1;32m    545\u001B[0m     \u001B[38;5;28;01mif\u001B[39;00m \u001B[38;5;28mself\u001B[39m\u001B[38;5;241m.\u001B[39m_closed:\n\u001B[1;32m    546\u001B[0m         proto\u001B[38;5;241m.\u001B[39mclose()\n",
      "File \u001B[0;32m~/PycharmProjects/agents-eval/venv/lib/python3.11/site-packages/aiohttp/connector.py:911\u001B[0m, in \u001B[0;36mTCPConnector._create_connection\u001B[0;34m(self, req, traces, timeout)\u001B[0m\n\u001B[1;32m    909\u001B[0m     _, proto \u001B[38;5;241m=\u001B[39m \u001B[38;5;28;01mawait\u001B[39;00m \u001B[38;5;28mself\u001B[39m\u001B[38;5;241m.\u001B[39m_create_proxy_connection(req, traces, timeout)\n\u001B[1;32m    910\u001B[0m \u001B[38;5;28;01melse\u001B[39;00m:\n\u001B[0;32m--> 911\u001B[0m     _, proto \u001B[38;5;241m=\u001B[39m \u001B[38;5;28;01mawait\u001B[39;00m \u001B[38;5;28mself\u001B[39m\u001B[38;5;241m.\u001B[39m_create_direct_connection(req, traces, timeout)\n\u001B[1;32m    913\u001B[0m \u001B[38;5;28;01mreturn\u001B[39;00m proto\n",
      "File \u001B[0;32m~/PycharmProjects/agents-eval/venv/lib/python3.11/site-packages/aiohttp/connector.py:1235\u001B[0m, in \u001B[0;36mTCPConnector._create_direct_connection\u001B[0;34m(self, req, traces, timeout, client_error)\u001B[0m\n\u001B[1;32m   1233\u001B[0m \u001B[38;5;28;01melse\u001B[39;00m:\n\u001B[1;32m   1234\u001B[0m     \u001B[38;5;28;01massert\u001B[39;00m last_exc \u001B[38;5;129;01mis\u001B[39;00m \u001B[38;5;129;01mnot\u001B[39;00m \u001B[38;5;28;01mNone\u001B[39;00m\n\u001B[0;32m-> 1235\u001B[0m     \u001B[38;5;28;01mraise\u001B[39;00m last_exc\n",
      "File \u001B[0;32m~/PycharmProjects/agents-eval/venv/lib/python3.11/site-packages/aiohttp/connector.py:1204\u001B[0m, in \u001B[0;36mTCPConnector._create_direct_connection\u001B[0;34m(self, req, traces, timeout, client_error)\u001B[0m\n\u001B[1;32m   1197\u001B[0m server_hostname \u001B[38;5;241m=\u001B[39m (\n\u001B[1;32m   1198\u001B[0m     (req\u001B[38;5;241m.\u001B[39mserver_hostname \u001B[38;5;129;01mor\u001B[39;00m hinfo[\u001B[38;5;124m\"\u001B[39m\u001B[38;5;124mhostname\u001B[39m\u001B[38;5;124m\"\u001B[39m])\u001B[38;5;241m.\u001B[39mrstrip(\u001B[38;5;124m\"\u001B[39m\u001B[38;5;124m.\u001B[39m\u001B[38;5;124m\"\u001B[39m)\n\u001B[1;32m   1199\u001B[0m     \u001B[38;5;28;01mif\u001B[39;00m sslcontext\n\u001B[1;32m   1200\u001B[0m     \u001B[38;5;28;01melse\u001B[39;00m \u001B[38;5;28;01mNone\u001B[39;00m\n\u001B[1;32m   1201\u001B[0m )\n\u001B[1;32m   1203\u001B[0m \u001B[38;5;28;01mtry\u001B[39;00m:\n\u001B[0;32m-> 1204\u001B[0m     transp, proto \u001B[38;5;241m=\u001B[39m \u001B[38;5;28;01mawait\u001B[39;00m \u001B[38;5;28mself\u001B[39m\u001B[38;5;241m.\u001B[39m_wrap_create_connection(\n\u001B[1;32m   1205\u001B[0m         \u001B[38;5;28mself\u001B[39m\u001B[38;5;241m.\u001B[39m_factory,\n\u001B[1;32m   1206\u001B[0m         host,\n\u001B[1;32m   1207\u001B[0m         port,\n\u001B[1;32m   1208\u001B[0m         timeout\u001B[38;5;241m=\u001B[39mtimeout,\n\u001B[1;32m   1209\u001B[0m         ssl\u001B[38;5;241m=\u001B[39msslcontext,\n\u001B[1;32m   1210\u001B[0m         family\u001B[38;5;241m=\u001B[39mhinfo[\u001B[38;5;124m\"\u001B[39m\u001B[38;5;124mfamily\u001B[39m\u001B[38;5;124m\"\u001B[39m],\n\u001B[1;32m   1211\u001B[0m         proto\u001B[38;5;241m=\u001B[39mhinfo[\u001B[38;5;124m\"\u001B[39m\u001B[38;5;124mproto\u001B[39m\u001B[38;5;124m\"\u001B[39m],\n\u001B[1;32m   1212\u001B[0m         flags\u001B[38;5;241m=\u001B[39mhinfo[\u001B[38;5;124m\"\u001B[39m\u001B[38;5;124mflags\u001B[39m\u001B[38;5;124m\"\u001B[39m],\n\u001B[1;32m   1213\u001B[0m         server_hostname\u001B[38;5;241m=\u001B[39mserver_hostname,\n\u001B[1;32m   1214\u001B[0m         local_addr\u001B[38;5;241m=\u001B[39m\u001B[38;5;28mself\u001B[39m\u001B[38;5;241m.\u001B[39m_local_addr,\n\u001B[1;32m   1215\u001B[0m         req\u001B[38;5;241m=\u001B[39mreq,\n\u001B[1;32m   1216\u001B[0m         client_error\u001B[38;5;241m=\u001B[39mclient_error,\n\u001B[1;32m   1217\u001B[0m     )\n\u001B[1;32m   1218\u001B[0m \u001B[38;5;28;01mexcept\u001B[39;00m ClientConnectorError \u001B[38;5;28;01mas\u001B[39;00m exc:\n\u001B[1;32m   1219\u001B[0m     last_exc \u001B[38;5;241m=\u001B[39m exc\n",
      "File \u001B[0;32m~/PycharmProjects/agents-eval/venv/lib/python3.11/site-packages/aiohttp/connector.py:1000\u001B[0m, in \u001B[0;36mTCPConnector._wrap_create_connection\u001B[0;34m(self, req, timeout, client_error, *args, **kwargs)\u001B[0m\n\u001B[1;32m    998\u001B[0m \u001B[38;5;28;01mif\u001B[39;00m exc\u001B[38;5;241m.\u001B[39merrno \u001B[38;5;129;01mis\u001B[39;00m \u001B[38;5;28;01mNone\u001B[39;00m \u001B[38;5;129;01mand\u001B[39;00m \u001B[38;5;28misinstance\u001B[39m(exc, asyncio\u001B[38;5;241m.\u001B[39mTimeoutError):\n\u001B[1;32m    999\u001B[0m     \u001B[38;5;28;01mraise\u001B[39;00m\n\u001B[0;32m-> 1000\u001B[0m \u001B[38;5;28;01mraise\u001B[39;00m client_error(req\u001B[38;5;241m.\u001B[39mconnection_key, exc) \u001B[38;5;28;01mfrom\u001B[39;00m \u001B[38;5;21;01mexc\u001B[39;00m\n",
      "\u001B[0;31mClientConnectorError\u001B[0m: Cannot connect to host 127.0.0.1:5050 ssl:default [Connect call failed ('127.0.0.1', 5050)]"
     ]
    }
   ],
   "source": [
    "await file_system_agent()"
   ],
   "metadata": {
    "collapsed": false,
    "ExecuteTime": {
     "end_time": "2024-03-07T10:56:32.860149Z",
     "start_time": "2024-03-07T10:56:32.159357Z"
    }
   },
   "id": "ae52e6cc9484d719",
   "execution_count": 6
  },
  {
   "cell_type": "code",
   "outputs": [],
   "source": [],
   "metadata": {
    "collapsed": false,
    "ExecuteTime": {
     "start_time": "2024-03-07T10:56:19.965878Z"
    }
   },
   "id": "3fb1ef0dd43f29fb"
  }
 ],
 "metadata": {
  "kernelspec": {
   "display_name": "Python 3",
   "language": "python",
   "name": "python3"
  },
  "language_info": {
   "codemirror_mode": {
    "name": "ipython",
    "version": 2
   },
   "file_extension": ".py",
   "mimetype": "text/x-python",
   "name": "python",
   "nbconvert_exporter": "python",
   "pygments_lexer": "ipython2",
   "version": "2.7.6"
  }
 },
 "nbformat": 4,
 "nbformat_minor": 5
}
