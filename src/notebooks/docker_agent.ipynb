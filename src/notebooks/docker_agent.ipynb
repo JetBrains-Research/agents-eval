{
 "cells": [
  {
   "cell_type": "code",
   "execution_count": 1,
   "id": "initial_id",
   "metadata": {
    "collapsed": true,
    "ExecuteTime": {
     "end_time": "2024-03-07T10:59:31.292387Z",
     "start_time": "2024-03-07T10:59:31.245224Z"
    }
   },
   "outputs": [],
   "source": [
    "from src.docker.docker_session_config import DockerSessionConfig\n",
    "from src.docker.docker_session import docker_session"
   ]
  },
  {
   "cell_type": "code",
   "outputs": [],
   "source": [
    "import nest_asyncio\n",
    "nest_asyncio.apply()"
   ],
   "metadata": {
    "collapsed": false,
    "ExecuteTime": {
     "end_time": "2024-03-07T10:59:31.753964Z",
     "start_time": "2024-03-07T10:59:31.750409Z"
    }
   },
   "id": "8d461ab224d4f271",
   "execution_count": 2
  },
  {
   "cell_type": "code",
   "outputs": [],
   "source": [
    "config = DockerSessionConfig(volumes={\n",
    "    '/Users/Maria.Tigina/PycharmProjects/agents-eval-data/docker': {'bind': '/mnt/vol', 'mode': 'rw'},\n",
    "    '/Users/Maria.Tigina/PycharmProjects/agents-eval-data/docker_cp': {'bind': '/mnt/vol1', 'mode': 'cp'}\n",
    "})"
   ],
   "metadata": {
    "collapsed": false,
    "ExecuteTime": {
     "end_time": "2024-03-07T10:59:32.249919Z",
     "start_time": "2024-03-07T10:59:32.246931Z"
    }
   },
   "id": "dbc90096587d9ebe",
   "execution_count": 3
  },
  {
   "cell_type": "code",
   "outputs": [
    {
     "name": "stdout",
     "output_type": "stream",
     "text": [
      "Created file /tmp/test.txt\n",
      "List of files in /tmp:\n",
      "total 8\n",
      "drwxrwxrwt 1 root root 4096 Mar  7 10:59 .\n",
      "drwxr-xr-x 1 root root 4096 Mar  7 10:59 ..\n",
      "drwxr-xr-x 3 root root   96 Mar  6 11:28 _mnt_vol1\n",
      "-rw-r--r-- 1 root root    0 Mar  7 10:59 test.txt\n",
      "Created file /mnt/vol/test_mnt_vol.txt\n",
      "List of files in /mnt/vol:\n",
      "total 4\n",
      "drwxr-xr-x 4 root root  128 Mar  7 10:33 .\n",
      "drwxr-xr-x 1 root root 4096 Mar  7 10:59 ..\n",
      "drwxr-xr-x 2 root root   64 Mar  6 13:28 emptyProject\n",
      "-rw-r--r-- 1 root root    0 Mar  7 10:59 test_mnt_vol.txt\n",
      "Recreated container; list of files in /tmp:\n",
      "total 8\n",
      "drwxrwxrwt 1 root root 4096 Mar  7 10:59 .\n",
      "drwxr-xr-x 1 root root 4096 Mar  7 10:59 ..\n",
      "drwxr-xr-x 3 root root   96 Mar  6 11:28 _mnt_vol1\n"
     ]
    }
   ],
   "source": [
    "with docker_session(config) as session_interface:\n",
    "    out = session_interface.execute_command(\"touch /tmp/test.txt\")\n",
    "    print(f\"Created file /tmp/test.txt\")\n",
    "    \n",
    "    out = session_interface.execute_command('ls -la /tmp')\n",
    "    print(f\"List of files in /tmp:\\n{out}\")\n",
    "    \n",
    "    out = session_interface.execute_command(\"touch /mnt/vol/test_mnt_vol.txt\")\n",
    "    print(f\"Created file /mnt/vol/test_mnt_vol.txt\")\n",
    "    \n",
    "    out = session_interface.execute_command('ls -la /mnt/vol')\n",
    "    print(f\"List of files in /mnt/vol:\\n{out}\")\n",
    "    \n",
    "    session_interface.recreate()\n",
    "    out = session_interface.execute_command('ls -la /tmp')\n",
    "    print(f\"Recreated container; list of files in /tmp:\\n{out}\")"
   ],
   "metadata": {
    "collapsed": false,
    "ExecuteTime": {
     "end_time": "2024-03-07T10:59:39.181010Z",
     "start_time": "2024-03-07T10:59:32.659090Z"
    }
   },
   "id": "1e5f837384d72ce5",
   "execution_count": 4
  },
  {
   "cell_type": "code",
   "outputs": [],
   "source": [
    "from src.eval.agents.http_agent import HttpAgent\n",
    "\n",
    "empty_project_path = '/Users/Maria.Tigina/PycharmProjects/agents-eval-data/docker/emptyProject'\n",
    "docker_config = DockerSessionConfig(\n",
    "    image='mariatigina/file-system-service:latest',\n",
    "    command=[],\n",
    "    working_dir='/app',\n",
    "    ports={5050: 5050},\n",
    "    volumes={\n",
    "        empty_project_path: {\"bind\": \"/project\", \"mode\": \"rw\"}\n",
    "    }\n",
    ")\n",
    "async def file_system_agent():\n",
    "    with docker_session(docker_config) as s:\n",
    "        http_agent = HttpAgent('localhost', '5050')\n",
    "        print(await http_agent.ping())\n",
    "        # print(await http_agent.run_command('create_file', {'path': 'hello.txt'}))\n"
   ],
   "metadata": {
    "collapsed": false,
    "ExecuteTime": {
     "end_time": "2024-03-07T10:59:41.165859Z",
     "start_time": "2024-03-07T10:59:41.122709Z"
    }
   },
   "id": "c1efb93bd1efa53f",
   "execution_count": 5
  },
  {
   "cell_type": "code",
   "outputs": [
    {
     "ename": "ClientOSError",
     "evalue": "[Errno 54] Connection reset by peer",
     "output_type": "error",
     "traceback": [
      "\u001B[0;31m---------------------------------------------------------------------------\u001B[0m",
      "\u001B[0;31mClientOSError\u001B[0m                             Traceback (most recent call last)",
      "Cell \u001B[0;32mIn[6], line 1\u001B[0m\n\u001B[0;32m----> 1\u001B[0m \u001B[38;5;28;01mawait\u001B[39;00m file_system_agent()\n",
      "Cell \u001B[0;32mIn[5], line 16\u001B[0m, in \u001B[0;36mfile_system_agent\u001B[0;34m()\u001B[0m\n\u001B[1;32m     14\u001B[0m \u001B[38;5;28;01mwith\u001B[39;00m docker_session(docker_config) \u001B[38;5;28;01mas\u001B[39;00m s:\n\u001B[1;32m     15\u001B[0m     http_agent \u001B[38;5;241m=\u001B[39m HttpAgent(\u001B[38;5;124m'\u001B[39m\u001B[38;5;124mlocalhost\u001B[39m\u001B[38;5;124m'\u001B[39m, \u001B[38;5;124m'\u001B[39m\u001B[38;5;124m5050\u001B[39m\u001B[38;5;124m'\u001B[39m)\n\u001B[0;32m---> 16\u001B[0m     \u001B[38;5;28mprint\u001B[39m(\u001B[38;5;28;01mawait\u001B[39;00m http_agent\u001B[38;5;241m.\u001B[39mping())\n",
      "File \u001B[0;32m~/PycharmProjects/agents-eval/src/eval/agents/http_agent.py:52\u001B[0m, in \u001B[0;36mHttpAgent.ping\u001B[0;34m(self)\u001B[0m\n\u001B[1;32m     49\u001B[0m url \u001B[38;5;241m=\u001B[39m \u001B[38;5;124mf\u001B[39m\u001B[38;5;124m'\u001B[39m\u001B[38;5;132;01m{\u001B[39;00m\u001B[38;5;28mself\u001B[39m\u001B[38;5;241m.\u001B[39mbase_url\u001B[38;5;132;01m}\u001B[39;00m\u001B[38;5;124m/ping\u001B[39m\u001B[38;5;124m'\u001B[39m\n\u001B[1;32m     51\u001B[0m \u001B[38;5;28;01masync\u001B[39;00m \u001B[38;5;28;01mwith\u001B[39;00m aiohttp\u001B[38;5;241m.\u001B[39mClientSession() \u001B[38;5;28;01mas\u001B[39;00m session:\n\u001B[0;32m---> 52\u001B[0m     \u001B[38;5;28;01masync\u001B[39;00m \u001B[38;5;28;01mwith\u001B[39;00m session\u001B[38;5;241m.\u001B[39mget(url) \u001B[38;5;28;01mas\u001B[39;00m response:\n\u001B[1;32m     53\u001B[0m         \u001B[38;5;28;01mreturn\u001B[39;00m \u001B[38;5;28;01mawait\u001B[39;00m response\u001B[38;5;241m.\u001B[39mtext()\n",
      "File \u001B[0;32m~/PycharmProjects/agents-eval/venv/lib/python3.11/site-packages/aiohttp/client.py:1194\u001B[0m, in \u001B[0;36m_BaseRequestContextManager.__aenter__\u001B[0;34m(self)\u001B[0m\n\u001B[1;32m   1193\u001B[0m \u001B[38;5;28;01masync\u001B[39;00m \u001B[38;5;28;01mdef\u001B[39;00m \u001B[38;5;21m__aenter__\u001B[39m(\u001B[38;5;28mself\u001B[39m) \u001B[38;5;241m-\u001B[39m\u001B[38;5;241m>\u001B[39m _RetType:\n\u001B[0;32m-> 1194\u001B[0m     \u001B[38;5;28mself\u001B[39m\u001B[38;5;241m.\u001B[39m_resp \u001B[38;5;241m=\u001B[39m \u001B[38;5;28;01mawait\u001B[39;00m \u001B[38;5;28mself\u001B[39m\u001B[38;5;241m.\u001B[39m_coro\n\u001B[1;32m   1195\u001B[0m     \u001B[38;5;28;01mreturn\u001B[39;00m \u001B[38;5;28mself\u001B[39m\u001B[38;5;241m.\u001B[39m_resp\n",
      "File \u001B[0;32m~/PycharmProjects/agents-eval/venv/lib/python3.11/site-packages/aiohttp/client.py:605\u001B[0m, in \u001B[0;36mClientSession._request\u001B[0;34m(self, method, str_or_url, params, data, json, cookies, headers, skip_auto_headers, auth, allow_redirects, max_redirects, compress, chunked, expect100, raise_for_status, read_until_eof, proxy, proxy_auth, timeout, verify_ssl, fingerprint, ssl_context, ssl, server_hostname, proxy_headers, trace_request_ctx, read_bufsize, auto_decompress, max_line_size, max_field_size)\u001B[0m\n\u001B[1;32m    603\u001B[0m resp \u001B[38;5;241m=\u001B[39m \u001B[38;5;28;01mawait\u001B[39;00m req\u001B[38;5;241m.\u001B[39msend(conn)\n\u001B[1;32m    604\u001B[0m \u001B[38;5;28;01mtry\u001B[39;00m:\n\u001B[0;32m--> 605\u001B[0m     \u001B[38;5;28;01mawait\u001B[39;00m resp\u001B[38;5;241m.\u001B[39mstart(conn)\n\u001B[1;32m    606\u001B[0m \u001B[38;5;28;01mexcept\u001B[39;00m \u001B[38;5;167;01mBaseException\u001B[39;00m:\n\u001B[1;32m    607\u001B[0m     resp\u001B[38;5;241m.\u001B[39mclose()\n",
      "File \u001B[0;32m~/PycharmProjects/agents-eval/venv/lib/python3.11/site-packages/aiohttp/client_reqrep.py:966\u001B[0m, in \u001B[0;36mClientResponse.start\u001B[0;34m(self, connection)\u001B[0m\n\u001B[1;32m    964\u001B[0m \u001B[38;5;28;01mtry\u001B[39;00m:\n\u001B[1;32m    965\u001B[0m     protocol \u001B[38;5;241m=\u001B[39m \u001B[38;5;28mself\u001B[39m\u001B[38;5;241m.\u001B[39m_protocol\n\u001B[0;32m--> 966\u001B[0m     message, payload \u001B[38;5;241m=\u001B[39m \u001B[38;5;28;01mawait\u001B[39;00m protocol\u001B[38;5;241m.\u001B[39mread()  \u001B[38;5;66;03m# type: ignore[union-attr]\u001B[39;00m\n\u001B[1;32m    967\u001B[0m \u001B[38;5;28;01mexcept\u001B[39;00m http\u001B[38;5;241m.\u001B[39mHttpProcessingError \u001B[38;5;28;01mas\u001B[39;00m exc:\n\u001B[1;32m    968\u001B[0m     \u001B[38;5;28;01mraise\u001B[39;00m ClientResponseError(\n\u001B[1;32m    969\u001B[0m         \u001B[38;5;28mself\u001B[39m\u001B[38;5;241m.\u001B[39mrequest_info,\n\u001B[1;32m    970\u001B[0m         \u001B[38;5;28mself\u001B[39m\u001B[38;5;241m.\u001B[39mhistory,\n\u001B[0;32m   (...)\u001B[0m\n\u001B[1;32m    973\u001B[0m         headers\u001B[38;5;241m=\u001B[39mexc\u001B[38;5;241m.\u001B[39mheaders,\n\u001B[1;32m    974\u001B[0m     ) \u001B[38;5;28;01mfrom\u001B[39;00m \u001B[38;5;21;01mexc\u001B[39;00m\n",
      "File \u001B[0;32m~/PycharmProjects/agents-eval/venv/lib/python3.11/site-packages/aiohttp/streams.py:622\u001B[0m, in \u001B[0;36mDataQueue.read\u001B[0;34m(self)\u001B[0m\n\u001B[1;32m    620\u001B[0m \u001B[38;5;28mself\u001B[39m\u001B[38;5;241m.\u001B[39m_waiter \u001B[38;5;241m=\u001B[39m \u001B[38;5;28mself\u001B[39m\u001B[38;5;241m.\u001B[39m_loop\u001B[38;5;241m.\u001B[39mcreate_future()\n\u001B[1;32m    621\u001B[0m \u001B[38;5;28;01mtry\u001B[39;00m:\n\u001B[0;32m--> 622\u001B[0m     \u001B[38;5;28;01mawait\u001B[39;00m \u001B[38;5;28mself\u001B[39m\u001B[38;5;241m.\u001B[39m_waiter\n\u001B[1;32m    623\u001B[0m \u001B[38;5;28;01mexcept\u001B[39;00m (asyncio\u001B[38;5;241m.\u001B[39mCancelledError, asyncio\u001B[38;5;241m.\u001B[39mTimeoutError):\n\u001B[1;32m    624\u001B[0m     \u001B[38;5;28mself\u001B[39m\u001B[38;5;241m.\u001B[39m_waiter \u001B[38;5;241m=\u001B[39m \u001B[38;5;28;01mNone\u001B[39;00m\n",
      "File \u001B[0;32m~/.pyenv/versions/3.11.7/lib/python3.11/asyncio/futures.py:287\u001B[0m, in \u001B[0;36mFuture.__await__\u001B[0;34m(self)\u001B[0m\n\u001B[1;32m    285\u001B[0m \u001B[38;5;28;01mif\u001B[39;00m \u001B[38;5;129;01mnot\u001B[39;00m \u001B[38;5;28mself\u001B[39m\u001B[38;5;241m.\u001B[39mdone():\n\u001B[1;32m    286\u001B[0m     \u001B[38;5;28mself\u001B[39m\u001B[38;5;241m.\u001B[39m_asyncio_future_blocking \u001B[38;5;241m=\u001B[39m \u001B[38;5;28;01mTrue\u001B[39;00m\n\u001B[0;32m--> 287\u001B[0m     \u001B[38;5;28;01myield\u001B[39;00m \u001B[38;5;28mself\u001B[39m  \u001B[38;5;66;03m# This tells Task to wait for completion.\u001B[39;00m\n\u001B[1;32m    288\u001B[0m \u001B[38;5;28;01mif\u001B[39;00m \u001B[38;5;129;01mnot\u001B[39;00m \u001B[38;5;28mself\u001B[39m\u001B[38;5;241m.\u001B[39mdone():\n\u001B[1;32m    289\u001B[0m     \u001B[38;5;28;01mraise\u001B[39;00m \u001B[38;5;167;01mRuntimeError\u001B[39;00m(\u001B[38;5;124m\"\u001B[39m\u001B[38;5;124mawait wasn\u001B[39m\u001B[38;5;124m'\u001B[39m\u001B[38;5;124mt used with future\u001B[39m\u001B[38;5;124m\"\u001B[39m)\n",
      "File \u001B[0;32m~/.pyenv/versions/3.11.7/lib/python3.11/asyncio/tasks.py:349\u001B[0m, in \u001B[0;36mTask.__wakeup\u001B[0;34m(self, future)\u001B[0m\n\u001B[1;32m    347\u001B[0m \u001B[38;5;28;01mdef\u001B[39;00m \u001B[38;5;21m__wakeup\u001B[39m(\u001B[38;5;28mself\u001B[39m, future):\n\u001B[1;32m    348\u001B[0m     \u001B[38;5;28;01mtry\u001B[39;00m:\n\u001B[0;32m--> 349\u001B[0m         \u001B[43mfuture\u001B[49m\u001B[38;5;241;43m.\u001B[39;49m\u001B[43mresult\u001B[49m\u001B[43m(\u001B[49m\u001B[43m)\u001B[49m\n\u001B[1;32m    350\u001B[0m     \u001B[38;5;28;01mexcept\u001B[39;00m \u001B[38;5;167;01mBaseException\u001B[39;00m \u001B[38;5;28;01mas\u001B[39;00m exc:\n\u001B[1;32m    351\u001B[0m         \u001B[38;5;66;03m# This may also be a cancellation.\u001B[39;00m\n\u001B[1;32m    352\u001B[0m         \u001B[38;5;28mself\u001B[39m\u001B[38;5;241m.\u001B[39m__step(exc)\n",
      "File \u001B[0;32m~/.pyenv/versions/3.11.7/lib/python3.11/asyncio/futures.py:203\u001B[0m, in \u001B[0;36mFuture.result\u001B[0;34m(self)\u001B[0m\n\u001B[1;32m    201\u001B[0m \u001B[38;5;28mself\u001B[39m\u001B[38;5;241m.\u001B[39m__log_traceback \u001B[38;5;241m=\u001B[39m \u001B[38;5;28;01mFalse\u001B[39;00m\n\u001B[1;32m    202\u001B[0m \u001B[38;5;28;01mif\u001B[39;00m \u001B[38;5;28mself\u001B[39m\u001B[38;5;241m.\u001B[39m_exception \u001B[38;5;129;01mis\u001B[39;00m \u001B[38;5;129;01mnot\u001B[39;00m \u001B[38;5;28;01mNone\u001B[39;00m:\n\u001B[0;32m--> 203\u001B[0m     \u001B[38;5;28;01mraise\u001B[39;00m \u001B[38;5;28mself\u001B[39m\u001B[38;5;241m.\u001B[39m_exception\u001B[38;5;241m.\u001B[39mwith_traceback(\u001B[38;5;28mself\u001B[39m\u001B[38;5;241m.\u001B[39m_exception_tb)\n\u001B[1;32m    204\u001B[0m \u001B[38;5;28;01mreturn\u001B[39;00m \u001B[38;5;28mself\u001B[39m\u001B[38;5;241m.\u001B[39m_result\n",
      "\u001B[0;31mClientOSError\u001B[0m: [Errno 54] Connection reset by peer"
     ]
    }
   ],
   "source": [
    "await file_system_agent()"
   ],
   "metadata": {
    "collapsed": false,
    "ExecuteTime": {
     "end_time": "2024-03-07T10:59:42.601153Z",
     "start_time": "2024-03-07T10:59:41.978769Z"
    }
   },
   "id": "ae52e6cc9484d719",
   "execution_count": 6
  },
  {
   "cell_type": "code",
   "outputs": [],
   "source": [],
   "metadata": {
    "collapsed": false,
    "ExecuteTime": {
     "start_time": "2024-03-07T10:56:19.965878Z"
    }
   },
   "id": "3fb1ef0dd43f29fb"
  }
 ],
 "metadata": {
  "kernelspec": {
   "display_name": "Python 3",
   "language": "python",
   "name": "python3"
  },
  "language_info": {
   "codemirror_mode": {
    "name": "ipython",
    "version": 2
   },
   "file_extension": ".py",
   "mimetype": "text/x-python",
   "name": "python",
   "nbconvert_exporter": "python",
   "pygments_lexer": "ipython2",
   "version": "2.7.6"
  }
 },
 "nbformat": 4,
 "nbformat_minor": 5
}
