{
 "cells": [
  {
   "cell_type": "code",
   "execution_count": 1,
   "id": "initial_id",
   "metadata": {
    "collapsed": true,
    "ExecuteTime": {
     "end_time": "2024-03-06T11:37:03.460539Z",
     "start_time": "2024-03-06T11:37:03.414739Z"
    }
   },
   "outputs": [],
   "source": [
    "from src.eval.agents.dockerized_agent import DockerizedAgent\n",
    "from src.docker.docker_session_config import DockerSessionConfig"
   ]
  },
  {
   "cell_type": "code",
   "outputs": [],
   "source": [
    "config = DockerSessionConfig(volumes={\n",
    "    '/Users/Maria.Tigina/PycharmProjects/agents-eval-data/docker': {'bind': '/mnt/vol', 'mode': 'rw'},\n",
    "    '/Users/Maria.Tigina/PycharmProjects/agents-eval-data/docker_cp': {'bind': '/mnt/vol1', 'mode': 'cp'}\n",
    "})\n",
    "agent = DockerizedAgent(config)"
   ],
   "metadata": {
    "collapsed": false,
    "ExecuteTime": {
     "end_time": "2024-03-06T11:37:04.136475Z",
     "start_time": "2024-03-06T11:37:04.133495Z"
    }
   },
   "id": "dbc90096587d9ebe",
   "execution_count": 2
  },
  {
   "cell_type": "code",
   "outputs": [
    {
     "name": "stdout",
     "output_type": "stream",
     "text": [
      "Created file /tmp/test.txt\n",
      "List of files in /tmp:\n",
      "total 8\n",
      "drwxrwxrwt 1 root root 4096 Mar  6 11:37 .\n",
      "drwxr-xr-x 1 root root 4096 Mar  6 11:37 ..\n",
      "drwxr-xr-x 3 root root   96 Mar  6 11:28 _mnt_vol1\n",
      "-rw-r--r-- 1 root root    0 Mar  6 11:37 test.txt\n",
      "Created file /mnt/vol/test_mnt_vol.txt\n",
      "List of files in /mnt/vol:\n",
      "total 4\n",
      "drwxr-xr-x 3 root root   96 Mar  6 11:37 .\n",
      "drwxr-xr-x 1 root root 4096 Mar  6 11:37 ..\n",
      "-rw-r--r-- 1 root root    0 Mar  6 11:37 test_mnt_vol.txt\n",
      "Recreated container; list of files in /tmp:\n",
      "total 8\n",
      "drwxrwxrwt 1 root root 4096 Mar  6 11:37 .\n",
      "drwxr-xr-x 1 root root 4096 Mar  6 11:37 ..\n",
      "drwxr-xr-x 3 root root   96 Mar  6 11:28 _mnt_vol1\n"
     ]
    }
   ],
   "source": [
    "with agent.docker_session() as session_interface:\n",
    "    out = session_interface.execute_command(\"touch /tmp/test.txt\")\n",
    "    print(f\"Created file /tmp/test.txt\")\n",
    "    \n",
    "    out = session_interface.execute_command('ls -la /tmp')\n",
    "    print(f\"List of files in /tmp:\\n{out}\")\n",
    "    \n",
    "    out = session_interface.execute_command(\"touch /mnt/vol/test_mnt_vol.txt\")\n",
    "    print(f\"Created file /mnt/vol/test_mnt_vol.txt\")\n",
    "    \n",
    "    out = session_interface.execute_command('ls -la /mnt/vol')\n",
    "    print(f\"List of files in /mnt/vol:\\n{out}\")\n",
    "    \n",
    "    session_interface.recreate()\n",
    "    out = session_interface.execute_command('ls -la /tmp')\n",
    "    print(f\"Recreated container; list of files in /tmp:\\n{out}\")"
   ],
   "metadata": {
    "collapsed": false,
    "ExecuteTime": {
     "end_time": "2024-03-06T11:37:13.486437Z",
     "start_time": "2024-03-06T11:37:04.808036Z"
    }
   },
   "id": "1e5f837384d72ce5",
   "execution_count": 3
  },
  {
   "cell_type": "code",
   "outputs": [],
   "source": [],
   "metadata": {
    "collapsed": false
   },
   "id": "1568a8ecbffe8598"
  }
 ],
 "metadata": {
  "kernelspec": {
   "display_name": "Python 3",
   "language": "python",
   "name": "python3"
  },
  "language_info": {
   "codemirror_mode": {
    "name": "ipython",
    "version": 2
   },
   "file_extension": ".py",
   "mimetype": "text/x-python",
   "name": "python",
   "nbconvert_exporter": "python",
   "pygments_lexer": "ipython2",
   "version": "2.7.6"
  }
 },
 "nbformat": 4,
 "nbformat_minor": 5
}
