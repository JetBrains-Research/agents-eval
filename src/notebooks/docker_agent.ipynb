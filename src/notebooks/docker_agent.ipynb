{
 "cells": [
  {
   "cell_type": "code",
   "execution_count": 1,
   "id": "initial_id",
   "metadata": {
    "collapsed": true,
    "ExecuteTime": {
     "end_time": "2024-03-06T13:38:58.450877Z",
     "start_time": "2024-03-06T13:38:58.395217Z"
    }
   },
   "outputs": [],
   "source": [
    "from src.eval.agents.dockerized_agent import DockerizedAgent\n",
    "from src.docker.docker_session_config import DockerSessionConfig"
   ]
  },
  {
   "cell_type": "code",
   "outputs": [],
   "source": [
    "config = DockerSessionConfig(volumes={\n",
    "    '/Users/Maria.Tigina/PycharmProjects/agents-eval-data/docker': {'bind': '/mnt/vol', 'mode': 'rw'},\n",
    "    '/Users/Maria.Tigina/PycharmProjects/agents-eval-data/docker_cp': {'bind': '/mnt/vol1', 'mode': 'cp'}\n",
    "})\n",
    "agent = DockerizedAgent(config)"
   ],
   "metadata": {
    "collapsed": false,
    "ExecuteTime": {
     "end_time": "2024-03-06T11:37:04.136475Z",
     "start_time": "2024-03-06T11:37:04.133495Z"
    }
   },
   "id": "dbc90096587d9ebe",
   "execution_count": 2
  },
  {
   "cell_type": "code",
   "outputs": [
    {
     "name": "stdout",
     "output_type": "stream",
     "text": [
      "Created file /tmp/test.txt\n",
      "List of files in /tmp:\n",
      "total 8\n",
      "drwxrwxrwt 1 root root 4096 Mar  6 11:37 .\n",
      "drwxr-xr-x 1 root root 4096 Mar  6 11:37 ..\n",
      "drwxr-xr-x 3 root root   96 Mar  6 11:28 _mnt_vol1\n",
      "-rw-r--r-- 1 root root    0 Mar  6 11:37 test.txt\n",
      "Created file /mnt/vol/test_mnt_vol.txt\n",
      "List of files in /mnt/vol:\n",
      "total 4\n",
      "drwxr-xr-x 3 root root   96 Mar  6 11:37 .\n",
      "drwxr-xr-x 1 root root 4096 Mar  6 11:37 ..\n",
      "-rw-r--r-- 1 root root    0 Mar  6 11:37 test_mnt_vol.txt\n",
      "Recreated container; list of files in /tmp:\n",
      "total 8\n",
      "drwxrwxrwt 1 root root 4096 Mar  6 11:37 .\n",
      "drwxr-xr-x 1 root root 4096 Mar  6 11:37 ..\n",
      "drwxr-xr-x 3 root root   96 Mar  6 11:28 _mnt_vol1\n"
     ]
    }
   ],
   "source": [
    "with agent.docker_session() as session_interface:\n",
    "    out = session_interface.execute_command(\"touch /tmp/test.txt\")\n",
    "    print(f\"Created file /tmp/test.txt\")\n",
    "    \n",
    "    out = session_interface.execute_command('ls -la /tmp')\n",
    "    print(f\"List of files in /tmp:\\n{out}\")\n",
    "    \n",
    "    out = session_interface.execute_command(\"touch /mnt/vol/test_mnt_vol.txt\")\n",
    "    print(f\"Created file /mnt/vol/test_mnt_vol.txt\")\n",
    "    \n",
    "    out = session_interface.execute_command('ls -la /mnt/vol')\n",
    "    print(f\"List of files in /mnt/vol:\\n{out}\")\n",
    "    \n",
    "    session_interface.recreate()\n",
    "    out = session_interface.execute_command('ls -la /tmp')\n",
    "    print(f\"Recreated container; list of files in /tmp:\\n{out}\")"
   ],
   "metadata": {
    "collapsed": false,
    "ExecuteTime": {
     "end_time": "2024-03-06T11:37:13.486437Z",
     "start_time": "2024-03-06T11:37:04.808036Z"
    }
   },
   "id": "1e5f837384d72ce5",
   "execution_count": 3
  },
  {
   "cell_type": "code",
   "outputs": [],
   "source": [
    "from src.utils.print_utils import tee, ColorCodes\n",
    "import time\n",
    "\n",
    "test_project_path = '/Users/Maria.Tigina/PycharmProjects/agents-eval-data/docker/emptyProject'\n",
    "print(f\"Project path: {test_project_path}\")\n",
    "\n",
    "question = \"List all available git branches and their last commit message\"\n",
    "prompt = tee(\"Create gradle project\", color=ColorCodes.OKGREEN)\n",
    "\n",
    "config = DockerSessionConfig(\n",
    "    image=\"ghcr.io/jetbrains-research/ideformer-plugin/simulator:latest\",\n",
    "    command=[\"/project\"],\n",
    "    ports={8080: 8080},\n",
    "    working_dir=\"/project\",\n",
    "    volumes={\n",
    "            test_project_path: {\"bind\": \"/project\", \"mode\": \"cp\"}\n",
    "    },\n",
    "    interactive=True,\n",
    "    interactive_interpreter=\"bash\",\n",
    ")\n",
    "agent = DockerizedAgent(config)\n",
    "\n",
    "max_steps = 20\n",
    "executed_commands = [None] * max_steps\n",
    "\n",
    "with agent.docker_session() as session_interface:\n",
    "    for i in range(0, max_steps):\n",
    "        # sleep to avoid throttling\n",
    "        time.sleep(1)\n",
    "        # Tho brock should be first for every step\n",
    "        prompt += tee(f\"\\nTho {i}: ##\", color=ColorCodes.OKGREEN)\n",
    "    \n",
    "        thought = complete(str(prompt), stop_at=[\"##\", \"\\nAct\", \"\\nTho\", \"\\nObs\"])\n",
    "        prompt += tee(thought, color=ColorCodes.OKBLUE) + tee(\"##\", color=ColorCodes.OKGREEN)\n",
    "        \n",
    "        # Act block is the next\n",
    "        prompt += tee(f\"\\nAct {i}: \", color=ColorCodes.OKGREEN)\n",
    "        action = complete(str(prompt), is_in=[\"COMMAND\", \"COMMUNICATE\", \"RESET\", \"FINISH\"])\n",
    "        prompt += tee(action, color=ColorCodes.OKBLUE) + tee(\" ##\", color=ColorCodes.OKGREEN)\n",
    "\n",
    "        if action == \"RESET\":\n",
    "            subject = complete(str(prompt), is_in=[str(j) for j in range(0, i)])\n",
    "        else:\n",
    "            subject = complete(str(prompt), stop_at=[\"##\", \"\\nAct\", \"\\nTho\", \"\\nObs\"])\n",
    "        prompt += tee(subject, color=ColorCodes.OKBLUE) + tee(\"##\", color=ColorCodes.OKGREEN)\n",
    "        \n",
    "        if action == \"COMMAND\":\n",
    "            result = session_interface.execute_command(subject).output\n",
    "            executed_commands[i] = subject\n",
    "            # add an indicator if result is empty\n",
    "            if len(result.split(\"\\n\")) == (1 if is_interactive else 0):\n",
    "                result += \"\\n<NO_OUTPUT>\"\n",
    "\n",
    "        elif action == \"COMMUNICATE\":\n",
    "            result = input(subject)\n",
    "            if len(result) == 0:\n",
    "                result = \"<NO_INPUT>\"\n",
    "\n",
    "        elif action == \"RESET\":\n",
    "            session_interface.recreate()\n",
    "            # reapply all the commands up to the target step\n",
    "            target = int(subject)\n",
    "            j = 0\n",
    "            try:\n",
    "                for j in range(0, target):\n",
    "                        if executed_commands[j] is not None:\n",
    "                            session_interface.execute_command(executed_commands[j])\n",
    "\n",
    "                result = f\"Successfully rerun commands up to step {subject}.\"\n",
    "            except Exception as e:\n",
    "                result = f\"Failed to reset to step {subject}: {e}. Last executed step: {j}.\"\n",
    "                break\n",
    "            \n",
    "            # remove all the executed commands after the target step\n",
    "            executed_commands[target:] = [None] * (max_steps - target)\n",
    "\n",
    "        elif action == \"FINISH\":\n",
    "            correct = input(f\"Model response '{subject}'. \"\n",
    "                            \"Print 'stop' to finish or reply to the model\")\n",
    "            if correct.lower() == \"stop\":\n",
    "                break\n",
    "            else:\n",
    "                result = correct\n",
    "\n",
    "        prompt += tee(f\"\\nObs {i}: ##\", color=ColorCodes.OKGREEN) + tee(result, color=ColorCodes.OKCYAN) + tee(\"##\", color=ColorCodes.OKGREEN)"
   ],
   "metadata": {
    "collapsed": false
   },
   "id": "1568a8ecbffe8598"
  }
 ],
 "metadata": {
  "kernelspec": {
   "display_name": "Python 3",
   "language": "python",
   "name": "python3"
  },
  "language_info": {
   "codemirror_mode": {
    "name": "ipython",
    "version": 2
   },
   "file_extension": ".py",
   "mimetype": "text/x-python",
   "name": "python",
   "nbconvert_exporter": "python",
   "pygments_lexer": "ipython2",
   "version": "2.7.6"
  }
 },
 "nbformat": 4,
 "nbformat_minor": 5
}
